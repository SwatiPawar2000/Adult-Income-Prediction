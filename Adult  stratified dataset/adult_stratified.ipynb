{
 "cells": [
  {
   "cell_type": "markdown",
   "id": "e64f4a12-f357-44b8-88b0-58b4b3790eb1",
   "metadata": {},
   "source": [
    "### adult income prediction"
   ]
  },
  {
   "cell_type": "code",
   "execution_count": 1,
   "id": "fb14a001-ca1b-4f99-8dcf-398be6ce4db0",
   "metadata": {},
   "outputs": [],
   "source": [
    "# AIM-predicting whether the man will make 50k$ or not using census data"
   ]
  },
  {
   "cell_type": "code",
   "execution_count": 2,
   "id": "fc18940e-4ab9-4978-ba35-738362f1b07a",
   "metadata": {},
   "outputs": [],
   "source": [
    "import pandas as pd"
   ]
  },
  {
   "cell_type": "code",
   "execution_count": 3,
   "id": "c84a3f69-51f4-4218-8baa-0279786659cd",
   "metadata": {},
   "outputs": [],
   "source": [
    "df=pd.read_csv('adult.csv')"
   ]
  },
  {
   "cell_type": "code",
   "execution_count": 4,
   "id": "91111c8f-1bd2-445c-b71c-f3795d71aefb",
   "metadata": {},
   "outputs": [
    {
     "data": {
      "text/html": [
       "<div>\n",
       "<style scoped>\n",
       "    .dataframe tbody tr th:only-of-type {\n",
       "        vertical-align: middle;\n",
       "    }\n",
       "\n",
       "    .dataframe tbody tr th {\n",
       "        vertical-align: top;\n",
       "    }\n",
       "\n",
       "    .dataframe thead th {\n",
       "        text-align: right;\n",
       "    }\n",
       "</style>\n",
       "<table border=\"1\" class=\"dataframe\">\n",
       "  <thead>\n",
       "    <tr style=\"text-align: right;\">\n",
       "      <th></th>\n",
       "      <th>age</th>\n",
       "      <th>workclass</th>\n",
       "      <th>fnlwgt</th>\n",
       "      <th>education</th>\n",
       "      <th>education.num</th>\n",
       "      <th>marital.status</th>\n",
       "      <th>occupation</th>\n",
       "      <th>relationship</th>\n",
       "      <th>race</th>\n",
       "      <th>sex</th>\n",
       "      <th>capital.gain</th>\n",
       "      <th>capital.loss</th>\n",
       "      <th>hours.per.week</th>\n",
       "      <th>native.country</th>\n",
       "      <th>income</th>\n",
       "    </tr>\n",
       "  </thead>\n",
       "  <tbody>\n",
       "    <tr>\n",
       "      <th>0</th>\n",
       "      <td>90</td>\n",
       "      <td>?</td>\n",
       "      <td>77053</td>\n",
       "      <td>HS-grad</td>\n",
       "      <td>9</td>\n",
       "      <td>Widowed</td>\n",
       "      <td>?</td>\n",
       "      <td>Not-in-family</td>\n",
       "      <td>White</td>\n",
       "      <td>Female</td>\n",
       "      <td>0</td>\n",
       "      <td>4356</td>\n",
       "      <td>40</td>\n",
       "      <td>United-States</td>\n",
       "      <td>&lt;=50K</td>\n",
       "    </tr>\n",
       "    <tr>\n",
       "      <th>1</th>\n",
       "      <td>82</td>\n",
       "      <td>Private</td>\n",
       "      <td>132870</td>\n",
       "      <td>HS-grad</td>\n",
       "      <td>9</td>\n",
       "      <td>Widowed</td>\n",
       "      <td>Exec-managerial</td>\n",
       "      <td>Not-in-family</td>\n",
       "      <td>White</td>\n",
       "      <td>Female</td>\n",
       "      <td>0</td>\n",
       "      <td>4356</td>\n",
       "      <td>18</td>\n",
       "      <td>United-States</td>\n",
       "      <td>&lt;=50K</td>\n",
       "    </tr>\n",
       "    <tr>\n",
       "      <th>2</th>\n",
       "      <td>66</td>\n",
       "      <td>?</td>\n",
       "      <td>186061</td>\n",
       "      <td>Some-college</td>\n",
       "      <td>10</td>\n",
       "      <td>Widowed</td>\n",
       "      <td>?</td>\n",
       "      <td>Unmarried</td>\n",
       "      <td>Black</td>\n",
       "      <td>Female</td>\n",
       "      <td>0</td>\n",
       "      <td>4356</td>\n",
       "      <td>40</td>\n",
       "      <td>United-States</td>\n",
       "      <td>&lt;=50K</td>\n",
       "    </tr>\n",
       "    <tr>\n",
       "      <th>3</th>\n",
       "      <td>54</td>\n",
       "      <td>Private</td>\n",
       "      <td>140359</td>\n",
       "      <td>7th-8th</td>\n",
       "      <td>4</td>\n",
       "      <td>Divorced</td>\n",
       "      <td>Machine-op-inspct</td>\n",
       "      <td>Unmarried</td>\n",
       "      <td>White</td>\n",
       "      <td>Female</td>\n",
       "      <td>0</td>\n",
       "      <td>3900</td>\n",
       "      <td>40</td>\n",
       "      <td>United-States</td>\n",
       "      <td>&lt;=50K</td>\n",
       "    </tr>\n",
       "    <tr>\n",
       "      <th>4</th>\n",
       "      <td>41</td>\n",
       "      <td>Private</td>\n",
       "      <td>264663</td>\n",
       "      <td>Some-college</td>\n",
       "      <td>10</td>\n",
       "      <td>Separated</td>\n",
       "      <td>Prof-specialty</td>\n",
       "      <td>Own-child</td>\n",
       "      <td>White</td>\n",
       "      <td>Female</td>\n",
       "      <td>0</td>\n",
       "      <td>3900</td>\n",
       "      <td>40</td>\n",
       "      <td>United-States</td>\n",
       "      <td>&lt;=50K</td>\n",
       "    </tr>\n",
       "  </tbody>\n",
       "</table>\n",
       "</div>"
      ],
      "text/plain": [
       "   age workclass  fnlwgt     education  education.num marital.status  \\\n",
       "0   90         ?   77053       HS-grad              9        Widowed   \n",
       "1   82   Private  132870       HS-grad              9        Widowed   \n",
       "2   66         ?  186061  Some-college             10        Widowed   \n",
       "3   54   Private  140359       7th-8th              4       Divorced   \n",
       "4   41   Private  264663  Some-college             10      Separated   \n",
       "\n",
       "          occupation   relationship   race     sex  capital.gain  \\\n",
       "0                  ?  Not-in-family  White  Female             0   \n",
       "1    Exec-managerial  Not-in-family  White  Female             0   \n",
       "2                  ?      Unmarried  Black  Female             0   \n",
       "3  Machine-op-inspct      Unmarried  White  Female             0   \n",
       "4     Prof-specialty      Own-child  White  Female             0   \n",
       "\n",
       "   capital.loss  hours.per.week native.country income  \n",
       "0          4356              40  United-States  <=50K  \n",
       "1          4356              18  United-States  <=50K  \n",
       "2          4356              40  United-States  <=50K  \n",
       "3          3900              40  United-States  <=50K  \n",
       "4          3900              40  United-States  <=50K  "
      ]
     },
     "execution_count": 4,
     "metadata": {},
     "output_type": "execute_result"
    }
   ],
   "source": [
    "df.head()"
   ]
  },
  {
   "cell_type": "code",
   "execution_count": null,
   "id": "5b9638a6-fd49-4e7b-bdf0-ccec9649373d",
   "metadata": {},
   "outputs": [],
   "source": []
  },
  {
   "cell_type": "code",
   "execution_count": 5,
   "id": "fb0a9319-4365-438c-8aa1-52497623771b",
   "metadata": {},
   "outputs": [
    {
     "name": "stdout",
     "output_type": "stream",
     "text": [
      "<class 'pandas.core.frame.DataFrame'>\n",
      "RangeIndex: 32561 entries, 0 to 32560\n",
      "Data columns (total 15 columns):\n",
      " #   Column          Non-Null Count  Dtype \n",
      "---  ------          --------------  ----- \n",
      " 0   age             32561 non-null  int64 \n",
      " 1   workclass       32561 non-null  object\n",
      " 2   fnlwgt          32561 non-null  int64 \n",
      " 3   education       32561 non-null  object\n",
      " 4   education.num   32561 non-null  int64 \n",
      " 5   marital.status  32561 non-null  object\n",
      " 6   occupation      32561 non-null  object\n",
      " 7   relationship    32561 non-null  object\n",
      " 8   race            32561 non-null  object\n",
      " 9   sex             32561 non-null  object\n",
      " 10  capital.gain    32561 non-null  int64 \n",
      " 11  capital.loss    32561 non-null  int64 \n",
      " 12  hours.per.week  32561 non-null  int64 \n",
      " 13  native.country  32561 non-null  object\n",
      " 14  income          32561 non-null  object\n",
      "dtypes: int64(6), object(9)\n",
      "memory usage: 3.7+ MB\n"
     ]
    }
   ],
   "source": [
    "df.info()\n"
   ]
  },
  {
   "cell_type": "code",
   "execution_count": 6,
   "id": "7164897c-5cae-428b-a048-b0b3c600fce9",
   "metadata": {},
   "outputs": [
    {
     "data": {
      "text/plain": [
       "(32561, 15)"
      ]
     },
     "execution_count": 6,
     "metadata": {},
     "output_type": "execute_result"
    }
   ],
   "source": [
    "df.shape"
   ]
  },
  {
   "cell_type": "code",
   "execution_count": 7,
   "id": "67816aa0-cee2-46d1-8ec3-600b7d90a4ab",
   "metadata": {},
   "outputs": [
    {
     "data": {
      "text/plain": [
       "488415"
      ]
     },
     "execution_count": 7,
     "metadata": {},
     "output_type": "execute_result"
    }
   ],
   "source": [
    "df.size"
   ]
  },
  {
   "cell_type": "code",
   "execution_count": 8,
   "id": "ddb69b69-2641-4226-b3bf-f9878c2cfabb",
   "metadata": {},
   "outputs": [],
   "source": [
    "df.drop(['relationship'],axis=1,inplace=True)"
   ]
  },
  {
   "cell_type": "code",
   "execution_count": 9,
   "id": "9600e6d6-8912-4740-b3a1-e8e693b6d4a4",
   "metadata": {},
   "outputs": [
    {
     "data": {
      "text/plain": [
       "Private             22696\n",
       "Self-emp-not-inc     2541\n",
       "Local-gov            2093\n",
       "?                    1836\n",
       "State-gov            1298\n",
       "Self-emp-inc         1116\n",
       "Federal-gov           960\n",
       "Without-pay            14\n",
       "Never-worked            7\n",
       "Name: workclass, dtype: int64"
      ]
     },
     "execution_count": 9,
     "metadata": {},
     "output_type": "execute_result"
    }
   ],
   "source": [
    "df['workclass'].value_counts()"
   ]
  },
  {
   "cell_type": "code",
   "execution_count": 10,
   "id": "bbf11de0-d18d-4815-89fe-d01f5a8afb86",
   "metadata": {},
   "outputs": [
    {
     "data": {
      "text/plain": [
       "age               0\n",
       "workclass         0\n",
       "fnlwgt            0\n",
       "education         0\n",
       "education.num     0\n",
       "marital.status    0\n",
       "occupation        0\n",
       "race              0\n",
       "sex               0\n",
       "capital.gain      0\n",
       "capital.loss      0\n",
       "hours.per.week    0\n",
       "native.country    0\n",
       "income            0\n",
       "dtype: int64"
      ]
     },
     "execution_count": 10,
     "metadata": {},
     "output_type": "execute_result"
    }
   ],
   "source": [
    "df.isnull().sum()"
   ]
  },
  {
   "cell_type": "code",
   "execution_count": 11,
   "id": "1f345ff5-e269-466e-b4d0-0981db269105",
   "metadata": {},
   "outputs": [],
   "source": [
    "import numpy as np"
   ]
  },
  {
   "cell_type": "code",
   "execution_count": 12,
   "id": "cc897bf7-d6c2-4737-9820-626d597c892b",
   "metadata": {},
   "outputs": [],
   "source": [
    "df=df.replace('?',np.nan)"
   ]
  },
  {
   "cell_type": "code",
   "execution_count": 13,
   "id": "e12eb49b-dab9-4f00-abe2-0b6585db989f",
   "metadata": {},
   "outputs": [
    {
     "data": {
      "text/plain": [
       "age                  0\n",
       "workclass         1836\n",
       "fnlwgt               0\n",
       "education            0\n",
       "education.num        0\n",
       "marital.status       0\n",
       "occupation        1843\n",
       "race                 0\n",
       "sex                  0\n",
       "capital.gain         0\n",
       "capital.loss         0\n",
       "hours.per.week       0\n",
       "native.country     583\n",
       "income               0\n",
       "dtype: int64"
      ]
     },
     "execution_count": 13,
     "metadata": {},
     "output_type": "execute_result"
    }
   ],
   "source": [
    "df.isnull().sum()"
   ]
  },
  {
   "cell_type": "code",
   "execution_count": 2,
   "id": "2662a9e7-85aa-4eb8-8edf-75664db39025",
   "metadata": {},
   "outputs": [],
   "source": [
    "#df['workclass'].value_counts()"
   ]
  },
  {
   "cell_type": "code",
   "execution_count": 15,
   "id": "de6c75ef-5122-4646-9e3d-bb85fe32d7a7",
   "metadata": {},
   "outputs": [],
   "source": [
    "df['workclass']=df['workclass'].fillna('Private')"
   ]
  },
  {
   "cell_type": "code",
   "execution_count": 3,
   "id": "2a6a8ad0-a173-4e91-b4ae-a8dff6a23547",
   "metadata": {},
   "outputs": [],
   "source": [
    "#df['occupation'].value_counts()"
   ]
  },
  {
   "cell_type": "code",
   "execution_count": 17,
   "id": "1c92b7f3-7870-4944-b80f-67f9a790f0f7",
   "metadata": {},
   "outputs": [],
   "source": [
    "df['occupation']=df['occupation'].fillna('Other-service')"
   ]
  },
  {
   "cell_type": "code",
   "execution_count": 4,
   "id": "1c830795-5780-40b6-85af-40bd506873b9",
   "metadata": {},
   "outputs": [],
   "source": [
    "#df['native.country'].value_counts()"
   ]
  },
  {
   "cell_type": "code",
   "execution_count": 19,
   "id": "f4782a76-2305-45bd-a371-5acc6a1af867",
   "metadata": {},
   "outputs": [],
   "source": [
    "df['native.country']=df['native.country'].fillna('United-States')"
   ]
  },
  {
   "cell_type": "code",
   "execution_count": 20,
   "id": "d52eb648-fb4c-41b9-9b3c-f827bfeff511",
   "metadata": {},
   "outputs": [
    {
     "data": {
      "text/plain": [
       "age               0\n",
       "workclass         0\n",
       "fnlwgt            0\n",
       "education         0\n",
       "education.num     0\n",
       "marital.status    0\n",
       "occupation        0\n",
       "race              0\n",
       "sex               0\n",
       "capital.gain      0\n",
       "capital.loss      0\n",
       "hours.per.week    0\n",
       "native.country    0\n",
       "income            0\n",
       "dtype: int64"
      ]
     },
     "execution_count": 20,
     "metadata": {},
     "output_type": "execute_result"
    }
   ],
   "source": [
    "df.isnull().sum()"
   ]
  },
  {
   "cell_type": "code",
   "execution_count": 21,
   "id": "815cb010-aa60-49e9-b83b-45ec1440a07d",
   "metadata": {},
   "outputs": [],
   "source": [
    "df['income']=df['income'].replace({'<=50K':0,'>50K':1})"
   ]
  },
  {
   "cell_type": "code",
   "execution_count": 22,
   "id": "af8ed613-1164-4d0e-8341-3ff480886aa6",
   "metadata": {},
   "outputs": [
    {
     "data": {
      "text/html": [
       "<div>\n",
       "<style scoped>\n",
       "    .dataframe tbody tr th:only-of-type {\n",
       "        vertical-align: middle;\n",
       "    }\n",
       "\n",
       "    .dataframe tbody tr th {\n",
       "        vertical-align: top;\n",
       "    }\n",
       "\n",
       "    .dataframe thead th {\n",
       "        text-align: right;\n",
       "    }\n",
       "</style>\n",
       "<table border=\"1\" class=\"dataframe\">\n",
       "  <thead>\n",
       "    <tr style=\"text-align: right;\">\n",
       "      <th></th>\n",
       "      <th>age</th>\n",
       "      <th>workclass</th>\n",
       "      <th>fnlwgt</th>\n",
       "      <th>education</th>\n",
       "      <th>education.num</th>\n",
       "      <th>marital.status</th>\n",
       "      <th>occupation</th>\n",
       "      <th>race</th>\n",
       "      <th>sex</th>\n",
       "      <th>capital.gain</th>\n",
       "      <th>capital.loss</th>\n",
       "      <th>hours.per.week</th>\n",
       "      <th>native.country</th>\n",
       "      <th>income</th>\n",
       "    </tr>\n",
       "  </thead>\n",
       "  <tbody>\n",
       "    <tr>\n",
       "      <th>0</th>\n",
       "      <td>90</td>\n",
       "      <td>Private</td>\n",
       "      <td>77053</td>\n",
       "      <td>HS-grad</td>\n",
       "      <td>9</td>\n",
       "      <td>Widowed</td>\n",
       "      <td>Other-service</td>\n",
       "      <td>White</td>\n",
       "      <td>Female</td>\n",
       "      <td>0</td>\n",
       "      <td>4356</td>\n",
       "      <td>40</td>\n",
       "      <td>United-States</td>\n",
       "      <td>0</td>\n",
       "    </tr>\n",
       "    <tr>\n",
       "      <th>1</th>\n",
       "      <td>82</td>\n",
       "      <td>Private</td>\n",
       "      <td>132870</td>\n",
       "      <td>HS-grad</td>\n",
       "      <td>9</td>\n",
       "      <td>Widowed</td>\n",
       "      <td>Exec-managerial</td>\n",
       "      <td>White</td>\n",
       "      <td>Female</td>\n",
       "      <td>0</td>\n",
       "      <td>4356</td>\n",
       "      <td>18</td>\n",
       "      <td>United-States</td>\n",
       "      <td>0</td>\n",
       "    </tr>\n",
       "    <tr>\n",
       "      <th>2</th>\n",
       "      <td>66</td>\n",
       "      <td>Private</td>\n",
       "      <td>186061</td>\n",
       "      <td>Some-college</td>\n",
       "      <td>10</td>\n",
       "      <td>Widowed</td>\n",
       "      <td>Other-service</td>\n",
       "      <td>Black</td>\n",
       "      <td>Female</td>\n",
       "      <td>0</td>\n",
       "      <td>4356</td>\n",
       "      <td>40</td>\n",
       "      <td>United-States</td>\n",
       "      <td>0</td>\n",
       "    </tr>\n",
       "    <tr>\n",
       "      <th>3</th>\n",
       "      <td>54</td>\n",
       "      <td>Private</td>\n",
       "      <td>140359</td>\n",
       "      <td>7th-8th</td>\n",
       "      <td>4</td>\n",
       "      <td>Divorced</td>\n",
       "      <td>Machine-op-inspct</td>\n",
       "      <td>White</td>\n",
       "      <td>Female</td>\n",
       "      <td>0</td>\n",
       "      <td>3900</td>\n",
       "      <td>40</td>\n",
       "      <td>United-States</td>\n",
       "      <td>0</td>\n",
       "    </tr>\n",
       "    <tr>\n",
       "      <th>4</th>\n",
       "      <td>41</td>\n",
       "      <td>Private</td>\n",
       "      <td>264663</td>\n",
       "      <td>Some-college</td>\n",
       "      <td>10</td>\n",
       "      <td>Separated</td>\n",
       "      <td>Prof-specialty</td>\n",
       "      <td>White</td>\n",
       "      <td>Female</td>\n",
       "      <td>0</td>\n",
       "      <td>3900</td>\n",
       "      <td>40</td>\n",
       "      <td>United-States</td>\n",
       "      <td>0</td>\n",
       "    </tr>\n",
       "  </tbody>\n",
       "</table>\n",
       "</div>"
      ],
      "text/plain": [
       "   age workclass  fnlwgt     education  education.num marital.status  \\\n",
       "0   90   Private   77053       HS-grad              9        Widowed   \n",
       "1   82   Private  132870       HS-grad              9        Widowed   \n",
       "2   66   Private  186061  Some-college             10        Widowed   \n",
       "3   54   Private  140359       7th-8th              4       Divorced   \n",
       "4   41   Private  264663  Some-college             10      Separated   \n",
       "\n",
       "          occupation   race     sex  capital.gain  capital.loss  \\\n",
       "0      Other-service  White  Female             0          4356   \n",
       "1    Exec-managerial  White  Female             0          4356   \n",
       "2      Other-service  Black  Female             0          4356   \n",
       "3  Machine-op-inspct  White  Female             0          3900   \n",
       "4     Prof-specialty  White  Female             0          3900   \n",
       "\n",
       "   hours.per.week native.country  income  \n",
       "0              40  United-States       0  \n",
       "1              18  United-States       0  \n",
       "2              40  United-States       0  \n",
       "3              40  United-States       0  \n",
       "4              40  United-States       0  "
      ]
     },
     "execution_count": 22,
     "metadata": {},
     "output_type": "execute_result"
    }
   ],
   "source": [
    "df.head()"
   ]
  },
  {
   "cell_type": "code",
   "execution_count": 23,
   "id": "c25b0514-ce65-479c-a848-435b05f3c64f",
   "metadata": {},
   "outputs": [
    {
     "data": {
      "text/plain": [
       "0    24720\n",
       "1     7841\n",
       "Name: income, dtype: int64"
      ]
     },
     "execution_count": 23,
     "metadata": {},
     "output_type": "execute_result"
    }
   ],
   "source": [
    "df['income'].value_counts()"
   ]
  },
  {
   "cell_type": "code",
   "execution_count": 24,
   "id": "ee83fc5b-df49-42ea-937e-09183fbdd059",
   "metadata": {},
   "outputs": [],
   "source": [
    "educational_df=pd.DataFrame({'education':df['education'].unique(),'education_no':df['education.num'].unique()})"
   ]
  },
  {
   "cell_type": "code",
   "execution_count": 25,
   "id": "164ca8f9-1871-4aae-908c-8a5bc9d05595",
   "metadata": {},
   "outputs": [
    {
     "data": {
      "text/html": [
       "<div>\n",
       "<style scoped>\n",
       "    .dataframe tbody tr th:only-of-type {\n",
       "        vertical-align: middle;\n",
       "    }\n",
       "\n",
       "    .dataframe tbody tr th {\n",
       "        vertical-align: top;\n",
       "    }\n",
       "\n",
       "    .dataframe thead th {\n",
       "        text-align: right;\n",
       "    }\n",
       "</style>\n",
       "<table border=\"1\" class=\"dataframe\">\n",
       "  <thead>\n",
       "    <tr style=\"text-align: right;\">\n",
       "      <th></th>\n",
       "      <th>education</th>\n",
       "      <th>education_no</th>\n",
       "    </tr>\n",
       "  </thead>\n",
       "  <tbody>\n",
       "    <tr>\n",
       "      <th>15</th>\n",
       "      <td>Preschool</td>\n",
       "      <td>1</td>\n",
       "    </tr>\n",
       "    <tr>\n",
       "      <th>11</th>\n",
       "      <td>1st-4th</td>\n",
       "      <td>2</td>\n",
       "    </tr>\n",
       "    <tr>\n",
       "      <th>12</th>\n",
       "      <td>5th-6th</td>\n",
       "      <td>3</td>\n",
       "    </tr>\n",
       "    <tr>\n",
       "      <th>2</th>\n",
       "      <td>7th-8th</td>\n",
       "      <td>4</td>\n",
       "    </tr>\n",
       "    <tr>\n",
       "      <th>14</th>\n",
       "      <td>9th</td>\n",
       "      <td>5</td>\n",
       "    </tr>\n",
       "    <tr>\n",
       "      <th>3</th>\n",
       "      <td>10th</td>\n",
       "      <td>6</td>\n",
       "    </tr>\n",
       "    <tr>\n",
       "      <th>8</th>\n",
       "      <td>11th</td>\n",
       "      <td>7</td>\n",
       "    </tr>\n",
       "    <tr>\n",
       "      <th>13</th>\n",
       "      <td>12th</td>\n",
       "      <td>8</td>\n",
       "    </tr>\n",
       "    <tr>\n",
       "      <th>0</th>\n",
       "      <td>HS-grad</td>\n",
       "      <td>9</td>\n",
       "    </tr>\n",
       "    <tr>\n",
       "      <th>1</th>\n",
       "      <td>Some-college</td>\n",
       "      <td>10</td>\n",
       "    </tr>\n",
       "    <tr>\n",
       "      <th>10</th>\n",
       "      <td>Assoc-voc</td>\n",
       "      <td>11</td>\n",
       "    </tr>\n",
       "    <tr>\n",
       "      <th>9</th>\n",
       "      <td>Assoc-acdm</td>\n",
       "      <td>12</td>\n",
       "    </tr>\n",
       "    <tr>\n",
       "      <th>6</th>\n",
       "      <td>Bachelors</td>\n",
       "      <td>13</td>\n",
       "    </tr>\n",
       "    <tr>\n",
       "      <th>7</th>\n",
       "      <td>Masters</td>\n",
       "      <td>14</td>\n",
       "    </tr>\n",
       "    <tr>\n",
       "      <th>5</th>\n",
       "      <td>Prof-school</td>\n",
       "      <td>15</td>\n",
       "    </tr>\n",
       "    <tr>\n",
       "      <th>4</th>\n",
       "      <td>Doctorate</td>\n",
       "      <td>16</td>\n",
       "    </tr>\n",
       "  </tbody>\n",
       "</table>\n",
       "</div>"
      ],
      "text/plain": [
       "       education  education_no\n",
       "15     Preschool             1\n",
       "11       1st-4th             2\n",
       "12       5th-6th             3\n",
       "2        7th-8th             4\n",
       "14           9th             5\n",
       "3           10th             6\n",
       "8           11th             7\n",
       "13          12th             8\n",
       "0        HS-grad             9\n",
       "1   Some-college            10\n",
       "10     Assoc-voc            11\n",
       "9     Assoc-acdm            12\n",
       "6      Bachelors            13\n",
       "7        Masters            14\n",
       "5    Prof-school            15\n",
       "4      Doctorate            16"
      ]
     },
     "execution_count": 25,
     "metadata": {},
     "output_type": "execute_result"
    }
   ],
   "source": [
    "educational_df.sort_values('education_no',ascending=True)"
   ]
  },
  {
   "cell_type": "code",
   "execution_count": 26,
   "id": "25dd43dc-9099-477b-bb06-23922077e3fe",
   "metadata": {},
   "outputs": [],
   "source": [
    "df1=df.drop(['education'],axis=1)"
   ]
  },
  {
   "cell_type": "code",
   "execution_count": 27,
   "id": "202b6be7-6253-4c28-a808-637e64fa3e71",
   "metadata": {},
   "outputs": [
    {
     "name": "stdout",
     "output_type": "stream",
     "text": [
      "age has correlaltion with income as 0.2340371026488572\n",
      "fnlwgt has correlaltion with income as -0.009462557247529193\n",
      "education.num has correlaltion with income as 0.3351539526909414\n",
      "capital.gain has correlaltion with income as 0.2233288181953817\n",
      "capital.loss has correlaltion with income as 0.15052631177035317\n",
      "hours.per.week has correlaltion with income as 0.22968906567080935\n",
      "income has correlaltion with income as 1.0\n"
     ]
    }
   ],
   "source": [
    "for cols in df.columns:\n",
    "    if df[cols].dtype!='object':\n",
    "        corr=df[cols].corr(df['income'])\n",
    "        print(f'{cols} has correlaltion with income as {corr}')\n",
    "    "
   ]
  },
  {
   "cell_type": "code",
   "execution_count": 28,
   "id": "5a163ea0-d39e-4bc0-9db6-19c5def3ec36",
   "metadata": {},
   "outputs": [
    {
     "data": {
      "image/png": "[encoded data removed]",
      "text/plain": [
       "<Figure size 432x288 with 2 Axes>"
      ]
     },
     "metadata": {
      "needs_background": "light"
     },
     "output_type": "display_data"
    }
   ],
   "source": [
    "import seaborn as sns\n",
    "sns.heatmap(df.corr(),annot = True);"
   ]
  },
  {
   "cell_type": "code",
   "execution_count": 29,
   "id": "72158ba7-eb6a-477b-9813-4f4bd44df7b9",
   "metadata": {},
   "outputs": [],
   "source": [
    "# hence from corrleation we can drop fnlwgt"
   ]
  },
  {
   "cell_type": "code",
   "execution_count": 30,
   "id": "5be208c8-d7fa-4f82-8472-184090795080",
   "metadata": {},
   "outputs": [],
   "source": [
    "df.drop(['fnlwgt'],axis=1,inplace=True)"
   ]
  },
  {
   "cell_type": "code",
   "execution_count": 1,
   "id": "0f0aec18-972b-4f62-8cf5-2eac18c9748a",
   "metadata": {},
   "outputs": [],
   "source": [
    "#df1['education.num'].value_counts()"
   ]
  },
  {
   "cell_type": "code",
   "execution_count": 32,
   "id": "09428070-22a5-499c-9937-3d4a0015eda6",
   "metadata": {},
   "outputs": [],
   "source": [
    "df1=df.drop(['income'],axis=1)"
   ]
  },
  {
   "cell_type": "code",
   "execution_count": 35,
   "id": "d65b15ee-6127-41ad-91c4-700519333b69",
   "metadata": {},
   "outputs": [],
   "source": [
    "import matplotlib.pyplot as plt"
   ]
  },
  {
   "cell_type": "code",
   "execution_count": 36,
   "id": "97f3a963-987e-4b71-8e34-bb6357661339",
   "metadata": {},
   "outputs": [],
   "source": [
    "import seaborn as sns"
   ]
  },
  {
   "cell_type": "code",
   "execution_count": 37,
   "id": "67d24c6f-ca42-4930-9a12-37da84818414",
   "metadata": {},
   "outputs": [
    {
     "data": {
      "image/png": "[encoded data removed]",
      "text/plain": [
       "<Figure size 864x864 with 9 Axes>"
      ]
     },
     "metadata": {
      "needs_background": "light"
     },
     "output_type": "display_data"
    }
   ],
   "source": [
    "df.plot(kind='box',figsize=(12,12), layout=(3,3),subplots=True);"
   ]
  },
  {
   "cell_type": "code",
   "execution_count": 38,
   "id": "5acad983-37ab-4eda-9a38-a7fa62879667",
   "metadata": {},
   "outputs": [
    {
     "data": {
      "image/png": "[encoded data removed]",
      "text/plain": [
       "<Figure size 864x864 with 9 Axes>"
      ]
     },
     "metadata": {
      "needs_background": "light"
     },
     "output_type": "display_data"
    }
   ],
   "source": [
    "df.hist(figsize=(12,12),layout=(3,3),sharex=False);"
   ]
  },
  {
   "cell_type": "code",
   "execution_count": 39,
   "id": "ecd072f9-01cf-45c4-814c-d7064576514f",
   "metadata": {},
   "outputs": [
    {
     "data": {
      "text/plain": [
       "0        29849\n",
       "15024      347\n",
       "7688       284\n",
       "7298       246\n",
       "99999      159\n",
       "         ...  \n",
       "1111         1\n",
       "4931         1\n",
       "7978         1\n",
       "5060         1\n",
       "2538         1\n",
       "Name: capital.gain, Length: 119, dtype: int64"
      ]
     },
     "execution_count": 39,
     "metadata": {},
     "output_type": "execute_result"
    }
   ],
   "source": [
    "df1['capital.gain'].value_counts()"
   ]
  },
  {
   "cell_type": "code",
   "execution_count": 40,
   "id": "2726fc28-551b-4368-bf9b-430b560de3d2",
   "metadata": {},
   "outputs": [],
   "source": [
    "df1=df.drop(['income'],axis=1)"
   ]
  },
  {
   "cell_type": "code",
   "execution_count": 41,
   "id": "ea0c4a59-fc16-4492-9f0b-a8671b09b1bf",
   "metadata": {},
   "outputs": [],
   "source": [
    "cols_list=['age','capital.gain','capital.loss','hours.per.week']"
   ]
  },
  {
   "cell_type": "code",
   "execution_count": 42,
   "id": "e9b95750-96e7-4330-803e-f7b7c3733ffb",
   "metadata": {},
   "outputs": [],
   "source": [
    "for cols in df1.columns:\n",
    "    if df1[cols].dtype!='object' and cols in cols_list:\n",
    "        q1=df1[cols].quantile(0.25)\n",
    "        q3=df1[cols].quantile(0.75)\n",
    "        q2=q3-q1\n",
    "        low=q1-(1.5*q2)\n",
    "        high=q3+(1.5*q2)\n",
    "        (df1.loc[(df1[cols]<low) | (df1[cols]>high),cols])=df1[cols].median()"
   ]
  },
  {
   "cell_type": "code",
   "execution_count": null,
   "id": "a305b974-5936-4ed7-a1ac-dbd950dbfad1",
   "metadata": {},
   "outputs": [],
   "source": []
  },
  {
   "cell_type": "code",
   "execution_count": 43,
   "id": "e1e5eb8a-2f04-4571-8865-cbb348682901",
   "metadata": {},
   "outputs": [
    {
     "data": {
      "image/png": "[encoded data removed]",
      "text/plain": [
       "<Figure size 864x864 with 16 Axes>"
      ]
     },
     "metadata": {
      "needs_background": "light"
     },
     "output_type": "display_data"
    }
   ],
   "source": [
    "df1.plot(kind='box',figsize=(12,12), layout=(4,4),subplots=True);"
   ]
  },
  {
   "cell_type": "code",
   "execution_count": 44,
   "id": "147cfb94-9587-4e73-a9d1-ce2af4c62fb4",
   "metadata": {},
   "outputs": [],
   "source": [
    "# ho= there is no relation between given feature with dependent variable\n",
    "# ha= there is relation between given feature with dependent variable"
   ]
  },
  {
   "cell_type": "code",
   "execution_count": 45,
   "id": "5aed302c-51b9-45b5-81fb-26ad5e9da2ca",
   "metadata": {},
   "outputs": [
    {
     "name": "stdout",
     "output_type": "stream",
     "text": [
      "capital.gain has p_value of 1.0\n",
      "capital.loss has p_value of 1.0\n"
     ]
    }
   ],
   "source": [
    "for cols in df1.columns:\n",
    "    from scipy.stats import chi2_contingency\n",
    "    chi_df=pd.crosstab(df1[cols],df['income'])\n",
    "    a,p_value,b,c=chi2_contingency(chi_df)\n",
    "    if p_value > 0.05:\n",
    "        print(f'{cols} has p_value of {p_value}')"
   ]
  },
  {
   "cell_type": "code",
   "execution_count": 46,
   "id": "0db9dc8b-b1d8-4264-8619-1e77443c86eb",
   "metadata": {},
   "outputs": [],
   "source": [
    "df1.drop(['capital.gain','capital.loss'],axis=1,inplace=True)"
   ]
  },
  {
   "cell_type": "code",
   "execution_count": 47,
   "id": "cc06ee9d-5f2e-47e2-b006-32ac3718ee68",
   "metadata": {},
   "outputs": [],
   "source": [
    "from sklearn.preprocessing import LabelEncoder"
   ]
  },
  {
   "cell_type": "code",
   "execution_count": 48,
   "id": "992d7a79-2273-4087-8245-58e566eef48b",
   "metadata": {},
   "outputs": [],
   "source": [
    "le=LabelEncoder()"
   ]
  },
  {
   "cell_type": "code",
   "execution_count": 49,
   "id": "8a2044ec-530d-415c-8d85-e87da2fe9471",
   "metadata": {},
   "outputs": [],
   "source": [
    "for cols in df1.columns:\n",
    "    if df1[cols].dtype=='object':\n",
    "        df1[cols]=le.fit_transform(df1[cols])"
   ]
  },
  {
   "cell_type": "code",
   "execution_count": 50,
   "id": "0e89dbda-4903-4781-a52e-20d867bb9f1b",
   "metadata": {},
   "outputs": [],
   "source": [
    "from sklearn.preprocessing import StandardScaler"
   ]
  },
  {
   "cell_type": "code",
   "execution_count": 51,
   "id": "9c204b09-085b-4892-b500-500222b6f5a8",
   "metadata": {},
   "outputs": [],
   "source": [
    "std=StandardScaler()"
   ]
  },
  {
   "cell_type": "code",
   "execution_count": 52,
   "id": "c5d5855e-9210-4fe6-82c4-8fe3526eb880",
   "metadata": {},
   "outputs": [],
   "source": [
    "std_df=std.fit_transform(df1)"
   ]
  },
  {
   "cell_type": "code",
   "execution_count": 53,
   "id": "ce453c12-b1c5-4bf8-982d-565869d51f04",
   "metadata": {},
   "outputs": [],
   "source": [
    "std_df=pd.DataFrame(std_df)"
   ]
  },
  {
   "cell_type": "code",
   "execution_count": 54,
   "id": "56440ee2-d2b8-473e-b063-66a823eedce4",
   "metadata": {},
   "outputs": [],
   "source": [
    "std_df.columns=df1.iloc[:,:].columns"
   ]
  },
  {
   "cell_type": "code",
   "execution_count": 55,
   "id": "0abba05f-7698-492b-b6be-ec1ed47f50cd",
   "metadata": {},
   "outputs": [],
   "source": [
    "a=list(df['education'].unique())"
   ]
  },
  {
   "cell_type": "code",
   "execution_count": 56,
   "id": "8216798d-6c18-45fb-87c8-a0fdd6477453",
   "metadata": {},
   "outputs": [],
   "source": [
    "b=df['education'].value_counts()"
   ]
  },
  {
   "cell_type": "code",
   "execution_count": 57,
   "id": "97ff63c6-708a-4484-ae1f-2dff42d024f8",
   "metadata": {},
   "outputs": [],
   "source": [
    "c=[]\n",
    "for i in b:\n",
    "    c.append(i)"
   ]
  },
  {
   "cell_type": "code",
   "execution_count": 58,
   "id": "96fd932d-5480-4035-b785-53796a55a3fa",
   "metadata": {},
   "outputs": [
    {
     "data": {
      "image/png": "[encoded data removed]",
      "text/plain": [
       "<Figure size 432x288 with 1 Axes>"
      ]
     },
     "metadata": {},
     "output_type": "display_data"
    }
   ],
   "source": [
    "import matplotlib.pyplot as plt\n",
    "\n",
    "x = c\n",
    "labels =a\n",
    "Fig, ax = plt.subplots()\n",
    "ax.pie(x, labels = labels, autopct='%.0f%%')\n",
    "ax.set_title('educational distribution')\n",
    "plt.show()"
   ]
  },
  {
   "cell_type": "code",
   "execution_count": 59,
   "id": "e73d56da-5042-4dab-99ea-445edb3f5c6a",
   "metadata": {},
   "outputs": [
    {
     "name": "stderr",
     "output_type": "stream",
     "text": [
      "C:\\Users\\Shree\\anaconda3\\lib\\site-packages\\seaborn\\_decorators.py:36: FutureWarning: Pass the following variable as a keyword arg: x. From version 0.12, the only valid positional argument will be `data`, and passing other arguments without an explicit keyword will result in an error or misinterpretation.\n",
      "  warnings.warn(\n"
     ]
    },
    {
     "data": {
      "image/png": "[encoded data removed]",
      "text/plain": [
       "<Figure size 432x288 with 1 Axes>"
      ]
     },
     "metadata": {
      "needs_background": "light"
     },
     "output_type": "display_data"
    }
   ],
   "source": [
    "sns.countplot(df['race'], hue='income', data=df,);"
   ]
  },
  {
   "cell_type": "code",
   "execution_count": 60,
   "id": "27a2bf91-e13e-451f-8aa4-20b4b382feae",
   "metadata": {},
   "outputs": [
    {
     "name": "stderr",
     "output_type": "stream",
     "text": [
      "C:\\Users\\Shree\\anaconda3\\lib\\site-packages\\seaborn\\_decorators.py:36: FutureWarning: Pass the following variable as a keyword arg: x. From version 0.12, the only valid positional argument will be `data`, and passing other arguments without an explicit keyword will result in an error or misinterpretation.\n",
      "  warnings.warn(\n"
     ]
    },
    {
     "data": {
      "image/png": "[encoded data removed]",
      "text/plain": [
       "<Figure size 432x288 with 1 Axes>"
      ]
     },
     "metadata": {
      "needs_background": "light"
     },
     "output_type": "display_data"
    }
   ],
   "source": [
    "a=sns.countplot(df1['hours.per.week'], hue='income', data=df);\n"
   ]
  },
  {
   "cell_type": "code",
   "execution_count": 61,
   "id": "3c342af4-190f-4eb4-864c-6fa7f930744e",
   "metadata": {},
   "outputs": [
    {
     "data": {
      "text/plain": [
       "(array([   67.,  1517.,   625., 24263.,   255.,   363.,  1906.,   566.,\n",
       "         2848.,   151.]),\n",
       " array([33. , 34.9, 36.8, 38.7, 40.6, 42.5, 44.4, 46.3, 48.2, 50.1, 52. ]),\n",
       " <BarContainer object of 10 artists>)"
      ]
     },
     "execution_count": 61,
     "metadata": {},
     "output_type": "execute_result"
    },
    {
     "data": {
      "image/png": "[encoded data removed]",
      "text/plain": [
       "<Figure size 432x288 with 1 Axes>"
      ]
     },
     "metadata": {
      "needs_background": "light"
     },
     "output_type": "display_data"
    }
   ],
   "source": [
    "plt.hist(df1['hours.per.week'])"
   ]
  },
  {
   "cell_type": "code",
   "execution_count": null,
   "id": "1a5be126-9ef4-4c74-9073-c8df06e78420",
   "metadata": {},
   "outputs": [],
   "source": []
  },
  {
   "cell_type": "code",
   "execution_count": 62,
   "id": "b33139c9-871b-4f92-9ef8-8a9ae32dd449",
   "metadata": {},
   "outputs": [
    {
     "name": "stderr",
     "output_type": "stream",
     "text": [
      "C:\\Users\\Shree\\anaconda3\\lib\\site-packages\\seaborn\\_decorators.py:36: FutureWarning: Pass the following variable as a keyword arg: x. From version 0.12, the only valid positional argument will be `data`, and passing other arguments without an explicit keyword will result in an error or misinterpretation.\n",
      "  warnings.warn(\n"
     ]
    },
    {
     "data": {
      "image/png": "[encoded data removed]",
      "text/plain": [
       "<Figure size 432x288 with 1 Axes>"
      ]
     },
     "metadata": {
      "needs_background": "light"
     },
     "output_type": "display_data"
    }
   ],
   "source": [
    "sns.countplot(df1['education.num'], hue='income', data=df);"
   ]
  },
  {
   "cell_type": "code",
   "execution_count": 63,
   "id": "01a5ec5f-d1f2-4271-a939-a20716eb90f8",
   "metadata": {},
   "outputs": [
    {
     "data": {
      "image/png": "[encoded data removed]",
      "text/plain": [
       "<Figure size 432x288 with 1 Axes>"
      ]
     },
     "metadata": {
      "needs_background": "light"
     },
     "output_type": "display_data"
    }
   ],
   "source": [
    "import seaborn as sns\n",
    "ax = sns.countplot(x=\"sex\", hue='income', data=df)"
   ]
  },
  {
   "cell_type": "code",
   "execution_count": 64,
   "id": "ebe06e43-ae20-485b-ab22-f9af53667118",
   "metadata": {},
   "outputs": [],
   "source": [
    "final_df=pd.concat([std_df,df['income']],axis=1)"
   ]
  },
  {
   "cell_type": "code",
   "execution_count": 65,
   "id": "fd91a6c8-68e6-4ea5-a941-84f459dd0db2",
   "metadata": {},
   "outputs": [],
   "source": [
    "from sklearn.model_selection import train_test_split"
   ]
  },
  {
   "cell_type": "code",
   "execution_count": null,
   "id": "56c1bf64-2131-4654-867f-59191a639569",
   "metadata": {},
   "outputs": [],
   "source": []
  },
  {
   "cell_type": "code",
   "execution_count": 66,
   "id": "cdded646-6a33-4431-9382-0b78f56abbc5",
   "metadata": {},
   "outputs": [],
   "source": [
    "x_stratified = final_df.iloc[:,:-1]\n",
    "y_stratified = final_df.iloc[:,[-1]]"
   ]
  },
  {
   "cell_type": "code",
   "execution_count": 67,
   "id": "46271522-417a-4d6d-9b31-4a816a38e897",
   "metadata": {},
   "outputs": [],
   "source": [
    "x_train,x_test,y_train,y_test=train_test_split(x_stratified,y_stratified,train_size=0.8,stratify=y_stratified,random_state=0)"
   ]
  },
  {
   "cell_type": "code",
   "execution_count": 68,
   "id": "1fcb6e12-42fd-484e-82e9-44b430b737af",
   "metadata": {},
   "outputs": [],
   "source": [
    "#train_df,test_df=train_test_split(final_df,train_size=0.8)"
   ]
  },
  {
   "cell_type": "code",
   "execution_count": 69,
   "id": "eb94b534-b643-40dd-b4fc-b94d41da0edc",
   "metadata": {},
   "outputs": [],
   "source": [
    "#a=train_df[train_df['income']==1]"
   ]
  },
  {
   "cell_type": "code",
   "execution_count": 70,
   "id": "910279ba-4c88-49dc-afc2-ac538b2683e2",
   "metadata": {},
   "outputs": [
    {
     "data": {
      "text/plain": [
       "<AxesSubplot:xlabel='hours.per.week', ylabel='count'>"
      ]
     },
     "execution_count": 70,
     "metadata": {},
     "output_type": "execute_result"
    }
   ],
   "source": [
    "a"
   ]
  },
  {
   "cell_type": "code",
   "execution_count": 71,
   "id": "faac5c29-1eaa-4a6f-996f-6cc162576970",
   "metadata": {},
   "outputs": [],
   "source": [
    "#train_df=pd.concat([train_df,a,a])"
   ]
  },
  {
   "cell_type": "code",
   "execution_count": 72,
   "id": "63eccbe5-0fc1-4556-b3ff-86f96f2864eb",
   "metadata": {},
   "outputs": [],
   "source": [
    "#train_df['income'].value_counts()"
   ]
  },
  {
   "cell_type": "code",
   "execution_count": 73,
   "id": "984916ea-bf14-4af6-ac75-b0b19ee67624",
   "metadata": {},
   "outputs": [],
   "source": [
    "#x_train=train_df.iloc[:,:-1]\n",
    "#y_train=train_df.iloc[:,[-1]]\n",
    "#x_test=test_df.iloc[:,:-1]\n",
    "#y_test=test_df.iloc[:,[-1]]"
   ]
  },
  {
   "cell_type": "code",
   "execution_count": 74,
   "id": "174089a6-79cf-4738-985d-f63a618bbc74",
   "metadata": {},
   "outputs": [
    {
     "data": {
      "text/plain": [
       "0    19775\n",
       "1     6273\n",
       "Name: income, dtype: int64"
      ]
     },
     "execution_count": 74,
     "metadata": {},
     "output_type": "execute_result"
    }
   ],
   "source": [
    "y_train.income.value_counts()"
   ]
  },
  {
   "cell_type": "code",
   "execution_count": 75,
   "id": "0297729c-ff81-468d-afa0-e0174e0b12d1",
   "metadata": {},
   "outputs": [
    {
     "data": {
      "text/plain": [
       "3.152399171050534"
      ]
     },
     "execution_count": 75,
     "metadata": {},
     "output_type": "execute_result"
    }
   ],
   "source": [
    "19775/6273"
   ]
  },
  {
   "cell_type": "code",
   "execution_count": 76,
   "id": "93ff3f89-4598-4b5d-bf58-ee9d854f7643",
   "metadata": {},
   "outputs": [
    {
     "data": {
      "text/plain": [
       "0    4945\n",
       "1    1568\n",
       "Name: income, dtype: int64"
      ]
     },
     "execution_count": 76,
     "metadata": {},
     "output_type": "execute_result"
    }
   ],
   "source": [
    "y_test['income'].value_counts()"
   ]
  },
  {
   "cell_type": "code",
   "execution_count": 77,
   "id": "080d011b-db22-4df4-960e-55d14bd8ae06",
   "metadata": {},
   "outputs": [
    {
     "data": {
      "text/plain": [
       "3.153698979591837"
      ]
     },
     "execution_count": 77,
     "metadata": {},
     "output_type": "execute_result"
    }
   ],
   "source": [
    "4945/1568"
   ]
  },
  {
   "cell_type": "markdown",
   "id": "e0e4edef-89ce-4053-ab86-d9bb42c21774",
   "metadata": {},
   "source": [
    "### here we have succesfully applied stratified sampling "
   ]
  },
  {
   "cell_type": "code",
   "execution_count": 79,
   "id": "d6a5625f-5aae-4de2-ba6f-b3f23638877d",
   "metadata": {},
   "outputs": [],
   "source": [
    "y_train=np.ravel(y_train,order='C')"
   ]
  },
  {
   "cell_type": "markdown",
   "id": "58b915d2-f719-4c65-b2ce-c298c6b5e4df",
   "metadata": {},
   "source": [
    "### applying logistic regression"
   ]
  },
  {
   "cell_type": "code",
   "execution_count": 81,
   "id": "c89dec39-178b-4fbb-a47e-9c6fc8699ecb",
   "metadata": {},
   "outputs": [],
   "source": [
    "from sklearn.linear_model import LogisticRegression"
   ]
  },
  {
   "cell_type": "code",
   "execution_count": 82,
   "id": "78755164-1011-4e22-8558-ddafd6957cd5",
   "metadata": {},
   "outputs": [],
   "source": [
    "lr=LogisticRegression(random_state=32)"
   ]
  },
  {
   "cell_type": "code",
   "execution_count": 83,
   "id": "4c1e994a-3fb5-434e-a8ab-17a392736c70",
   "metadata": {},
   "outputs": [
    {
     "data": {
      "text/plain": [
       "LogisticRegression(random_state=32)"
      ]
     },
     "execution_count": 83,
     "metadata": {},
     "output_type": "execute_result"
    }
   ],
   "source": [
    "lr.fit(x_train,y_train)"
   ]
  },
  {
   "cell_type": "code",
   "execution_count": 84,
   "id": "2d301518-ee41-4283-bfcd-2a1e3fa793dd",
   "metadata": {},
   "outputs": [],
   "source": [
    "y_test_pred=lr.predict(x_test)"
   ]
  },
  {
   "cell_type": "code",
   "execution_count": 85,
   "id": "7b1e8d02-80bd-4993-a58e-443301afb14b",
   "metadata": {},
   "outputs": [],
   "source": [
    "from sklearn.metrics import confusion_matrix"
   ]
  },
  {
   "cell_type": "code",
   "execution_count": 86,
   "id": "c35b0051-52b6-4d76-a68e-e374ee217de3",
   "metadata": {},
   "outputs": [
    {
     "data": {
      "text/plain": [
       "array([[4616,  329],\n",
       "       [ 945,  623]], dtype=int64)"
      ]
     },
     "execution_count": 86,
     "metadata": {},
     "output_type": "execute_result"
    }
   ],
   "source": [
    "confusion_matrix(y_test,y_test_pred)"
   ]
  },
  {
   "cell_type": "code",
   "execution_count": 87,
   "id": "dcc10b41-3438-41bd-9fe5-ab89ac7bb855",
   "metadata": {},
   "outputs": [],
   "source": [
    "from sklearn import metrics"
   ]
  },
  {
   "cell_type": "code",
   "execution_count": 88,
   "id": "24153755-c4da-4016-b2f6-30cafe8e3ab6",
   "metadata": {},
   "outputs": [
    {
     "data": {
      "text/plain": [
       "0.8043912175648703"
      ]
     },
     "execution_count": 88,
     "metadata": {},
     "output_type": "execute_result"
    }
   ],
   "source": [
    "metrics.accuracy_score(y_test,y_test_pred)"
   ]
  },
  {
   "cell_type": "code",
   "execution_count": 89,
   "id": "556166bd-7944-4cf9-b87b-71ee6ad35060",
   "metadata": {},
   "outputs": [
    {
     "data": {
      "text/plain": [
       "0.6544117647058824"
      ]
     },
     "execution_count": 89,
     "metadata": {},
     "output_type": "execute_result"
    }
   ],
   "source": [
    "metrics.precision_score(y_test,y_test_pred)"
   ]
  },
  {
   "cell_type": "code",
   "execution_count": 90,
   "id": "c029ffd0-c6c5-4ace-9e6b-5c18d565163b",
   "metadata": {},
   "outputs": [],
   "source": [
    "### hyperparamertunning in logistic regression"
   ]
  },
  {
   "cell_type": "code",
   "execution_count": 91,
   "id": "772b1398-dd7d-4f31-bfc1-d7329f2b2267",
   "metadata": {},
   "outputs": [],
   "source": [
    "lr_grid={'solver' :['newton-cg', 'lbfgs', 'liblinear', 'sag', 'saga'],\n",
    "        'penalty':['elasticnet', 'l1', 'l2']  }"
   ]
  },
  {
   "cell_type": "code",
   "execution_count": 92,
   "id": "00788119-c97c-4f2d-858e-7c113ab1b359",
   "metadata": {},
   "outputs": [],
   "source": [
    "from sklearn.model_selection import GridSearchCV"
   ]
  },
  {
   "cell_type": "code",
   "execution_count": 93,
   "id": "ddcd2791-7624-40e7-b47f-9cb482b25844",
   "metadata": {},
   "outputs": [],
   "source": [
    "grid_lr=GridSearchCV(lr,lr_grid)"
   ]
  },
  {
   "cell_type": "code",
   "execution_count": 94,
   "id": "d611a347-0343-443f-bdfc-619d992e64c8",
   "metadata": {},
   "outputs": [
    {
     "name": "stderr",
     "output_type": "stream",
     "text": [
      "C:\\Users\\Shree\\anaconda3\\lib\\site-packages\\sklearn\\model_selection\\_validation.py:372: FitFailedWarning: \n",
      "40 fits failed out of a total of 75.\n",
      "The score on these train-test partitions for these parameters will be set to nan.\n",
      "If these failures are not expected, you can try to debug them by setting error_score='raise'.\n",
      "\n",
      "Below are more details about the failures:\n",
      "--------------------------------------------------------------------------------\n",
      "5 fits failed with the following error:\n",
      "Traceback (most recent call last):\n",
      "  File \"C:\\Users\\Shree\\anaconda3\\lib\\site-packages\\sklearn\\model_selection\\_validation.py\", line 680, in _fit_and_score\n",
      "    estimator.fit(X_train, y_train, **fit_params)\n",
      "  File \"C:\\Users\\Shree\\anaconda3\\lib\\site-packages\\sklearn\\linear_model\\_logistic.py\", line 1461, in fit\n",
      "    solver = _check_solver(self.solver, self.penalty, self.dual)\n",
      "  File \"C:\\Users\\Shree\\anaconda3\\lib\\site-packages\\sklearn\\linear_model\\_logistic.py\", line 447, in _check_solver\n",
      "    raise ValueError(\n",
      "ValueError: Solver newton-cg supports only 'l2' or 'none' penalties, got elasticnet penalty.\n",
      "\n",
      "--------------------------------------------------------------------------------\n",
      "5 fits failed with the following error:\n",
      "Traceback (most recent call last):\n",
      "  File \"C:\\Users\\Shree\\anaconda3\\lib\\site-packages\\sklearn\\model_selection\\_validation.py\", line 680, in _fit_and_score\n",
      "    estimator.fit(X_train, y_train, **fit_params)\n",
      "  File \"C:\\Users\\Shree\\anaconda3\\lib\\site-packages\\sklearn\\linear_model\\_logistic.py\", line 1461, in fit\n",
      "    solver = _check_solver(self.solver, self.penalty, self.dual)\n",
      "  File \"C:\\Users\\Shree\\anaconda3\\lib\\site-packages\\sklearn\\linear_model\\_logistic.py\", line 447, in _check_solver\n",
      "    raise ValueError(\n",
      "ValueError: Solver lbfgs supports only 'l2' or 'none' penalties, got elasticnet penalty.\n",
      "\n",
      "--------------------------------------------------------------------------------\n",
      "5 fits failed with the following error:\n",
      "Traceback (most recent call last):\n",
      "  File \"C:\\Users\\Shree\\anaconda3\\lib\\site-packages\\sklearn\\model_selection\\_validation.py\", line 680, in _fit_and_score\n",
      "    estimator.fit(X_train, y_train, **fit_params)\n",
      "  File \"C:\\Users\\Shree\\anaconda3\\lib\\site-packages\\sklearn\\linear_model\\_logistic.py\", line 1461, in fit\n",
      "    solver = _check_solver(self.solver, self.penalty, self.dual)\n",
      "  File \"C:\\Users\\Shree\\anaconda3\\lib\\site-packages\\sklearn\\linear_model\\_logistic.py\", line 457, in _check_solver\n",
      "    raise ValueError(\n",
      "ValueError: Only 'saga' solver supports elasticnet penalty, got solver=liblinear.\n",
      "\n",
      "--------------------------------------------------------------------------------\n",
      "5 fits failed with the following error:\n",
      "Traceback (most recent call last):\n",
      "  File \"C:\\Users\\Shree\\anaconda3\\lib\\site-packages\\sklearn\\model_selection\\_validation.py\", line 680, in _fit_and_score\n",
      "    estimator.fit(X_train, y_train, **fit_params)\n",
      "  File \"C:\\Users\\Shree\\anaconda3\\lib\\site-packages\\sklearn\\linear_model\\_logistic.py\", line 1461, in fit\n",
      "    solver = _check_solver(self.solver, self.penalty, self.dual)\n",
      "  File \"C:\\Users\\Shree\\anaconda3\\lib\\site-packages\\sklearn\\linear_model\\_logistic.py\", line 447, in _check_solver\n",
      "    raise ValueError(\n",
      "ValueError: Solver sag supports only 'l2' or 'none' penalties, got elasticnet penalty.\n",
      "\n",
      "--------------------------------------------------------------------------------\n",
      "5 fits failed with the following error:\n",
      "Traceback (most recent call last):\n",
      "  File \"C:\\Users\\Shree\\anaconda3\\lib\\site-packages\\sklearn\\model_selection\\_validation.py\", line 680, in _fit_and_score\n",
      "    estimator.fit(X_train, y_train, **fit_params)\n",
      "  File \"C:\\Users\\Shree\\anaconda3\\lib\\site-packages\\sklearn\\linear_model\\_logistic.py\", line 1471, in fit\n",
      "    raise ValueError(\n",
      "ValueError: l1_ratio must be between 0 and 1; got (l1_ratio=None)\n",
      "\n",
      "--------------------------------------------------------------------------------\n",
      "5 fits failed with the following error:\n",
      "Traceback (most recent call last):\n",
      "  File \"C:\\Users\\Shree\\anaconda3\\lib\\site-packages\\sklearn\\model_selection\\_validation.py\", line 680, in _fit_and_score\n",
      "    estimator.fit(X_train, y_train, **fit_params)\n",
      "  File \"C:\\Users\\Shree\\anaconda3\\lib\\site-packages\\sklearn\\linear_model\\_logistic.py\", line 1461, in fit\n",
      "    solver = _check_solver(self.solver, self.penalty, self.dual)\n",
      "  File \"C:\\Users\\Shree\\anaconda3\\lib\\site-packages\\sklearn\\linear_model\\_logistic.py\", line 447, in _check_solver\n",
      "    raise ValueError(\n",
      "ValueError: Solver newton-cg supports only 'l2' or 'none' penalties, got l1 penalty.\n",
      "\n",
      "--------------------------------------------------------------------------------\n",
      "5 fits failed with the following error:\n",
      "Traceback (most recent call last):\n",
      "  File \"C:\\Users\\Shree\\anaconda3\\lib\\site-packages\\sklearn\\model_selection\\_validation.py\", line 680, in _fit_and_score\n",
      "    estimator.fit(X_train, y_train, **fit_params)\n",
      "  File \"C:\\Users\\Shree\\anaconda3\\lib\\site-packages\\sklearn\\linear_model\\_logistic.py\", line 1461, in fit\n",
      "    solver = _check_solver(self.solver, self.penalty, self.dual)\n",
      "  File \"C:\\Users\\Shree\\anaconda3\\lib\\site-packages\\sklearn\\linear_model\\_logistic.py\", line 447, in _check_solver\n",
      "    raise ValueError(\n",
      "ValueError: Solver lbfgs supports only 'l2' or 'none' penalties, got l1 penalty.\n",
      "\n",
      "--------------------------------------------------------------------------------\n",
      "5 fits failed with the following error:\n",
      "Traceback (most recent call last):\n",
      "  File \"C:\\Users\\Shree\\anaconda3\\lib\\site-packages\\sklearn\\model_selection\\_validation.py\", line 680, in _fit_and_score\n",
      "    estimator.fit(X_train, y_train, **fit_params)\n",
      "  File \"C:\\Users\\Shree\\anaconda3\\lib\\site-packages\\sklearn\\linear_model\\_logistic.py\", line 1461, in fit\n",
      "    solver = _check_solver(self.solver, self.penalty, self.dual)\n",
      "  File \"C:\\Users\\Shree\\anaconda3\\lib\\site-packages\\sklearn\\linear_model\\_logistic.py\", line 447, in _check_solver\n",
      "    raise ValueError(\n",
      "ValueError: Solver sag supports only 'l2' or 'none' penalties, got l1 penalty.\n",
      "\n",
      "  warnings.warn(some_fits_failed_message, FitFailedWarning)\n",
      "C:\\Users\\Shree\\anaconda3\\lib\\site-packages\\sklearn\\model_selection\\_search.py:969: UserWarning: One or more of the test scores are non-finite: [       nan        nan        nan        nan        nan        nan\n",
      "        nan 0.7993705         nan 0.7993705  0.79948567 0.79948567\n",
      " 0.79948567 0.79948567 0.79948567]\n",
      "  warnings.warn(\n"
     ]
    },
    {
     "data": {
      "text/plain": [
       "GridSearchCV(estimator=LogisticRegression(random_state=32),\n",
       "             param_grid={'penalty': ['elasticnet', 'l1', 'l2'],\n",
       "                         'solver': ['newton-cg', 'lbfgs', 'liblinear', 'sag',\n",
       "                                    'saga']})"
      ]
     },
     "execution_count": 94,
     "metadata": {},
     "output_type": "execute_result"
    }
   ],
   "source": [
    "grid_lr.fit(x_train,y_train)"
   ]
  },
  {
   "cell_type": "code",
   "execution_count": 95,
   "id": "f88b3dad-1d8f-44c4-ae5d-a12171b3ff72",
   "metadata": {},
   "outputs": [
    {
     "data": {
      "text/plain": [
       "{'penalty': 'l2', 'solver': 'newton-cg'}"
      ]
     },
     "execution_count": 95,
     "metadata": {},
     "output_type": "execute_result"
    }
   ],
   "source": [
    "grid_lr.best_params_"
   ]
  },
  {
   "cell_type": "code",
   "execution_count": 96,
   "id": "7dbd04da-5c4d-4b36-ab46-535061ac43c2",
   "metadata": {},
   "outputs": [],
   "source": [
    "LR=LogisticRegression(penalty='l2',solver='newton-cg',random_state=42)"
   ]
  },
  {
   "cell_type": "code",
   "execution_count": 97,
   "id": "e57136c9-0235-4df7-9f17-5285531c7e9e",
   "metadata": {},
   "outputs": [
    {
     "data": {
      "text/plain": [
       "LogisticRegression(random_state=42, solver='newton-cg')"
      ]
     },
     "execution_count": 97,
     "metadata": {},
     "output_type": "execute_result"
    }
   ],
   "source": [
    "LR.fit(x_train,y_train)"
   ]
  },
  {
   "cell_type": "code",
   "execution_count": 98,
   "id": "df50a8fc-0b06-4693-9f4d-ecfa328e99d2",
   "metadata": {},
   "outputs": [],
   "source": [
    "y_test_LR=LR.predict(x_test)"
   ]
  },
  {
   "cell_type": "code",
   "execution_count": 99,
   "id": "e059aade-402e-40bd-85a5-7adaf99f2bfd",
   "metadata": {},
   "outputs": [
    {
     "data": {
      "text/plain": [
       "array([[4616,  329],\n",
       "       [ 945,  623]], dtype=int64)"
      ]
     },
     "execution_count": 99,
     "metadata": {},
     "output_type": "execute_result"
    }
   ],
   "source": [
    "confusion_matrix(y_test,y_test_LR)"
   ]
  },
  {
   "cell_type": "code",
   "execution_count": 100,
   "id": "89ddcd55-0209-4c95-9d19-1763670d9604",
   "metadata": {},
   "outputs": [
    {
     "name": "stdout",
     "output_type": "stream",
     "text": [
      "0.8043912175648703\n",
      "0.6544117647058824\n"
     ]
    }
   ],
   "source": [
    "print(metrics.accuracy_score(y_test,y_test_LR))\n",
    "print(metrics.precision_score(y_test,y_test_LR))\n"
   ]
  },
  {
   "cell_type": "code",
   "execution_count": 101,
   "id": "f3f99f81-f5d4-42a2-ba31-6742f167f98c",
   "metadata": {},
   "outputs": [],
   "source": [
    "subjctivity=317/(317+4628)"
   ]
  },
  {
   "cell_type": "markdown",
   "id": "afbe71c9-b4f0-46e0-a0ce-9a09aabb9b67",
   "metadata": {},
   "source": [
    "## applying knn"
   ]
  },
  {
   "cell_type": "code",
   "execution_count": 102,
   "id": "3bd3c3dc-2bc4-4a33-aec9-6c4c2852641f",
   "metadata": {},
   "outputs": [],
   "source": [
    "from sklearn.neighbors import KNeighborsClassifier"
   ]
  },
  {
   "cell_type": "code",
   "execution_count": 103,
   "id": "b8a63c82-61b6-4fcb-91eb-1ab14eb84311",
   "metadata": {},
   "outputs": [],
   "source": [
    "knn=KNeighborsClassifier()"
   ]
  },
  {
   "cell_type": "code",
   "execution_count": 104,
   "id": "8dd62bd4-3915-4c5a-bf28-d1e0a263a64b",
   "metadata": {},
   "outputs": [
    {
     "data": {
      "text/plain": [
       "KNeighborsClassifier()"
      ]
     },
     "execution_count": 104,
     "metadata": {},
     "output_type": "execute_result"
    }
   ],
   "source": [
    "knn.fit(x_train,y_train)"
   ]
  },
  {
   "cell_type": "code",
   "execution_count": 105,
   "id": "49692606-ed66-44ef-8687-20f45ccd92fd",
   "metadata": {},
   "outputs": [],
   "source": [
    "y_pred_knn=knn.predict(x_test)"
   ]
  },
  {
   "cell_type": "code",
   "execution_count": 106,
   "id": "cdb17361-f432-4145-9d73-b7c3497d33ef",
   "metadata": {},
   "outputs": [
    {
     "data": {
      "text/plain": [
       "array([[4394,  551],\n",
       "       [ 671,  897]], dtype=int64)"
      ]
     },
     "execution_count": 106,
     "metadata": {},
     "output_type": "execute_result"
    }
   ],
   "source": [
    "confusion_matrix(y_test,y_pred_knn)"
   ]
  },
  {
   "cell_type": "code",
   "execution_count": 107,
   "id": "6cdb0cf6-0eb4-4729-8a81-933345cdfce2",
   "metadata": {},
   "outputs": [
    {
     "data": {
      "text/plain": [
       "0.812375249500998"
      ]
     },
     "execution_count": 107,
     "metadata": {},
     "output_type": "execute_result"
    }
   ],
   "source": [
    "metrics.accuracy_score(y_test,y_pred_knn)"
   ]
  },
  {
   "cell_type": "code",
   "execution_count": 108,
   "id": "50d7ce04-a62a-402e-8fc4-cb2ea9b7ee49",
   "metadata": {},
   "outputs": [
    {
     "data": {
      "text/plain": [
       "0.619475138121547"
      ]
     },
     "execution_count": 108,
     "metadata": {},
     "output_type": "execute_result"
    }
   ],
   "source": [
    "metrics.precision_score(y_test,y_pred_knn)"
   ]
  },
  {
   "cell_type": "markdown",
   "id": "fee25ecf-1377-4f22-8dd3-bb38af6848c7",
   "metadata": {},
   "source": [
    "### cross validation of Knn"
   ]
  },
  {
   "cell_type": "code",
   "execution_count": 110,
   "id": "fee1b16c-07d6-49da-be1e-6aede35f91cd",
   "metadata": {},
   "outputs": [],
   "source": [
    "parameter_dict={'n_neighbors':list(range(21,50,2)),'p':[1,2],\n",
    "    'metric':['minkowski','manhattan_distance','euclidean_distance'],'weights' : ['uniform', 'distance']}"
   ]
  },
  {
   "cell_type": "code",
   "execution_count": 111,
   "id": "00a02cae-4e6b-4362-8900-3e677101571f",
   "metadata": {},
   "outputs": [],
   "source": [
    "from sklearn.model_selection import GridSearchCV"
   ]
  },
  {
   "cell_type": "code",
   "execution_count": 112,
   "id": "12ac3c48-52fd-43d9-8786-d63e3246c83f",
   "metadata": {},
   "outputs": [],
   "source": [
    "grid_df=GridSearchCV(knn,param_grid=parameter_dict)"
   ]
  },
  {
   "cell_type": "code",
   "execution_count": 113,
   "id": "a4cb7d95-2e9b-418e-a135-4e47bcb131f1",
   "metadata": {},
   "outputs": [],
   "source": [
    "import numpy as np"
   ]
  },
  {
   "cell_type": "code",
   "execution_count": 114,
   "id": "abc2db34-6d0c-4389-b719-5a85c37f8f7d",
   "metadata": {},
   "outputs": [
    {
     "name": "stderr",
     "output_type": "stream",
     "text": [
      "C:\\Users\\Shree\\anaconda3\\lib\\site-packages\\sklearn\\model_selection\\_validation.py:372: FitFailedWarning: \n",
      "600 fits failed out of a total of 900.\n",
      "The score on these train-test partitions for these parameters will be set to nan.\n",
      "If these failures are not expected, you can try to debug them by setting error_score='raise'.\n",
      "\n",
      "Below are more details about the failures:\n",
      "--------------------------------------------------------------------------------\n",
      "300 fits failed with the following error:\n",
      "Traceback (most recent call last):\n",
      "  File \"C:\\Users\\Shree\\anaconda3\\lib\\site-packages\\sklearn\\model_selection\\_validation.py\", line 680, in _fit_and_score\n",
      "    estimator.fit(X_train, y_train, **fit_params)\n",
      "  File \"C:\\Users\\Shree\\anaconda3\\lib\\site-packages\\sklearn\\neighbors\\_classification.py\", line 198, in fit\n",
      "    return self._fit(X, y)\n",
      "  File \"C:\\Users\\Shree\\anaconda3\\lib\\site-packages\\sklearn\\neighbors\\_base.py\", line 437, in _fit\n",
      "    self._check_algorithm_metric()\n",
      "  File \"C:\\Users\\Shree\\anaconda3\\lib\\site-packages\\sklearn\\neighbors\\_base.py\", line 374, in _check_algorithm_metric\n",
      "    raise ValueError(\n",
      "ValueError: Metric 'manhattan_distance' not valid. Use sorted(sklearn.neighbors.VALID_METRICS['brute']) to get valid options. Metric can also be a callable function.\n",
      "\n",
      "--------------------------------------------------------------------------------\n",
      "300 fits failed with the following error:\n",
      "Traceback (most recent call last):\n",
      "  File \"C:\\Users\\Shree\\anaconda3\\lib\\site-packages\\sklearn\\model_selection\\_validation.py\", line 680, in _fit_and_score\n",
      "    estimator.fit(X_train, y_train, **fit_params)\n",
      "  File \"C:\\Users\\Shree\\anaconda3\\lib\\site-packages\\sklearn\\neighbors\\_classification.py\", line 198, in fit\n",
      "    return self._fit(X, y)\n",
      "  File \"C:\\Users\\Shree\\anaconda3\\lib\\site-packages\\sklearn\\neighbors\\_base.py\", line 437, in _fit\n",
      "    self._check_algorithm_metric()\n",
      "  File \"C:\\Users\\Shree\\anaconda3\\lib\\site-packages\\sklearn\\neighbors\\_base.py\", line 374, in _check_algorithm_metric\n",
      "    raise ValueError(\n",
      "ValueError: Metric 'euclidean_distance' not valid. Use sorted(sklearn.neighbors.VALID_METRICS['brute']) to get valid options. Metric can also be a callable function.\n",
      "\n",
      "  warnings.warn(some_fits_failed_message, FitFailedWarning)\n",
      "C:\\Users\\Shree\\anaconda3\\lib\\site-packages\\sklearn\\model_selection\\_search.py:969: UserWarning: One or more of the test scores are non-finite: [0.82559099 0.81123288 0.82251979 0.81019628 0.82539897 0.81123282\n",
      " 0.82305718 0.80992761 0.82413217 0.81130963 0.82275015 0.80977401\n",
      " 0.82628212 0.81142479 0.82367154 0.81054179 0.82574462 0.81203902\n",
      " 0.82420894 0.81081056 0.82536082 0.81242295 0.82278853 0.81050348\n",
      " 0.82582151 0.81257649 0.82324932 0.81050346 0.82597506 0.8128452\n",
      " 0.8224816  0.81050345 0.82582152 0.81303714 0.82255843 0.81008112\n",
      " 0.82578321 0.81322909 0.82286563 0.81046505 0.82747232 0.81353629\n",
      " 0.82248165 0.81084893 0.82685818 0.81372826 0.82298067 0.81150153\n",
      " 0.82781779 0.81411213 0.82294225 0.81130959 0.82754913 0.81426567\n",
      " 0.82255835 0.81107921 0.82705005 0.81430406 0.82209757 0.81153993\n",
      "        nan        nan        nan        nan        nan        nan\n",
      "        nan        nan        nan        nan        nan        nan\n",
      "        nan        nan        nan        nan        nan        nan\n",
      "        nan        nan        nan        nan        nan        nan\n",
      "        nan        nan        nan        nan        nan        nan\n",
      "        nan        nan        nan        nan        nan        nan\n",
      "        nan        nan        nan        nan        nan        nan\n",
      "        nan        nan        nan        nan        nan        nan\n",
      "        nan        nan        nan        nan        nan        nan\n",
      "        nan        nan        nan        nan        nan        nan\n",
      "        nan        nan        nan        nan        nan        nan\n",
      "        nan        nan        nan        nan        nan        nan\n",
      "        nan        nan        nan        nan        nan        nan\n",
      "        nan        nan        nan        nan        nan        nan\n",
      "        nan        nan        nan        nan        nan        nan\n",
      "        nan        nan        nan        nan        nan        nan\n",
      "        nan        nan        nan        nan        nan        nan\n",
      "        nan        nan        nan        nan        nan        nan\n",
      "        nan        nan        nan        nan        nan        nan\n",
      "        nan        nan        nan        nan        nan        nan]\n",
      "  warnings.warn(\n"
     ]
    },
    {
     "data": {
      "text/plain": [
       "GridSearchCV(estimator=KNeighborsClassifier(),\n",
       "             param_grid={'metric': ['minkowski', 'manhattan_distance',\n",
       "                                    'euclidean_distance'],\n",
       "                         'n_neighbors': [21, 23, 25, 27, 29, 31, 33, 35, 37, 39,\n",
       "                                         41, 43, 45, 47, 49],\n",
       "                         'p': [1, 2], 'weights': ['uniform', 'distance']})"
      ]
     },
     "execution_count": 114,
     "metadata": {},
     "output_type": "execute_result"
    }
   ],
   "source": [
    "grid_df.fit(x_train,y_train)"
   ]
  },
  {
   "cell_type": "code",
   "execution_count": 115,
   "id": "4c344ca1-4fe8-44f2-ad94-ad6f8367d90e",
   "metadata": {},
   "outputs": [
    {
     "data": {
      "text/plain": [
       "{'metric': 'minkowski', 'n_neighbors': 45, 'p': 1, 'weights': 'uniform'}"
      ]
     },
     "execution_count": 115,
     "metadata": {},
     "output_type": "execute_result"
    }
   ],
   "source": [
    "grid_df.best_params_"
   ]
  },
  {
   "cell_type": "code",
   "execution_count": 116,
   "id": "fb32a06b-8246-438a-905e-c6f35ae946d8",
   "metadata": {},
   "outputs": [],
   "source": [
    "knn=KNeighborsClassifier(metric= 'minkowski', n_neighbors= 45, p=1, weights= 'uniform')"
   ]
  },
  {
   "cell_type": "code",
   "execution_count": 117,
   "id": "cae23493-970b-4ebb-bd66-2ca45e3cde8e",
   "metadata": {},
   "outputs": [
    {
     "data": {
      "text/plain": [
       "KNeighborsClassifier(n_neighbors=45, p=1)"
      ]
     },
     "execution_count": 117,
     "metadata": {},
     "output_type": "execute_result"
    }
   ],
   "source": [
    "knn.fit(x_train,y_train)"
   ]
  },
  {
   "cell_type": "code",
   "execution_count": 118,
   "id": "130d3d64-1b73-4772-91d4-f702741bbbee",
   "metadata": {},
   "outputs": [],
   "source": [
    "y_pred_tunned_knn=knn.predict(x_test)"
   ]
  },
  {
   "cell_type": "code",
   "execution_count": 119,
   "id": "20ab60e0-6a97-4b44-9ba4-bd7e2eea79f2",
   "metadata": {},
   "outputs": [
    {
     "data": {
      "text/plain": [
       "array([[4503,  442],\n",
       "       [ 675,  893]], dtype=int64)"
      ]
     },
     "execution_count": 119,
     "metadata": {},
     "output_type": "execute_result"
    }
   ],
   "source": [
    "confusion_matrix(y_test,y_pred_tunned_knn)"
   ]
  },
  {
   "cell_type": "code",
   "execution_count": 120,
   "id": "a3694f7e-2caa-4519-b066-6147ffff144a",
   "metadata": {},
   "outputs": [
    {
     "data": {
      "text/plain": [
       "0.8284968524489482"
      ]
     },
     "execution_count": 120,
     "metadata": {},
     "output_type": "execute_result"
    }
   ],
   "source": [
    "metrics.accuracy_score(y_test,y_pred_tunned_knn)"
   ]
  },
  {
   "cell_type": "code",
   "execution_count": 121,
   "id": "6b5f8528-1d23-4d7c-a632-0881e7b589cc",
   "metadata": {},
   "outputs": [
    {
     "data": {
      "text/plain": [
       "0.6689138576779026"
      ]
     },
     "execution_count": 121,
     "metadata": {},
     "output_type": "execute_result"
    }
   ],
   "source": [
    "metrics.precision_score(y_test,y_pred_tunned_knn)"
   ]
  },
  {
   "cell_type": "code",
   "execution_count": 15,
   "id": "3910f548-ab48-4a59-959a-f110e630b4c6",
   "metadata": {},
   "outputs": [],
   "source": [
    "fpr_ratio=442/(442+4503)"
   ]
  },
  {
   "cell_type": "code",
   "execution_count": 16,
   "id": "e3702331-e0ca-4eb7-8a5d-e8ca4dfe4462",
   "metadata": {},
   "outputs": [
    {
     "data": {
      "text/plain": [
       "0.08938321536905966"
      ]
     },
     "execution_count": 16,
     "metadata": {},
     "output_type": "execute_result"
    }
   ],
   "source": [
    "fpr_ratio"
   ]
  },
  {
   "cell_type": "markdown",
   "id": "3ed8395f-907c-4e12-b017-1378521cb5c1",
   "metadata": {},
   "source": [
    "### applying dicision tree"
   ]
  },
  {
   "cell_type": "code",
   "execution_count": 124,
   "id": "87bd0f1c-e183-4ae8-8538-319c22d9f9c4",
   "metadata": {},
   "outputs": [],
   "source": [
    "from sklearn.tree import DecisionTreeClassifier"
   ]
  },
  {
   "cell_type": "code",
   "execution_count": 125,
   "id": "360ec716-403f-4f14-96cc-7f29e3c99946",
   "metadata": {},
   "outputs": [],
   "source": [
    "dt=DecisionTreeClassifier()"
   ]
  },
  {
   "cell_type": "code",
   "execution_count": 126,
   "id": "e65c81a4-9269-4b16-90b5-0054348b6e0e",
   "metadata": {},
   "outputs": [
    {
     "data": {
      "text/plain": [
       "DecisionTreeClassifier()"
      ]
     },
     "execution_count": 126,
     "metadata": {},
     "output_type": "execute_result"
    }
   ],
   "source": [
    "dt.fit(x_train,y_train)"
   ]
  },
  {
   "cell_type": "code",
   "execution_count": 127,
   "id": "341fb083-2554-455c-b3d3-3dd15eb5ec72",
   "metadata": {},
   "outputs": [],
   "source": [
    "y_pred_dt=dt.predict(x_test)"
   ]
  },
  {
   "cell_type": "code",
   "execution_count": 128,
   "id": "a1572f0a-7417-49b1-9a48-b5616fb03fbf",
   "metadata": {},
   "outputs": [
    {
     "data": {
      "text/plain": [
       "array([[4296,  649],\n",
       "       [ 760,  808]], dtype=int64)"
      ]
     },
     "execution_count": 128,
     "metadata": {},
     "output_type": "execute_result"
    }
   ],
   "source": [
    "confusion_matrix(y_test,y_pred_dt)"
   ]
  },
  {
   "cell_type": "code",
   "execution_count": 129,
   "id": "f786472c-cdf0-4fa6-95e0-64670f62aafc",
   "metadata": {},
   "outputs": [
    {
     "data": {
      "text/plain": [
       "0.7836634423460771"
      ]
     },
     "execution_count": 129,
     "metadata": {},
     "output_type": "execute_result"
    }
   ],
   "source": [
    "metrics.accuracy_score(y_test,y_pred_dt)"
   ]
  },
  {
   "cell_type": "code",
   "execution_count": 130,
   "id": "7675f5e3-13dc-4e9d-8b71-0ed037ed1de6",
   "metadata": {},
   "outputs": [
    {
     "data": {
      "text/plain": [
       "0.5545641729581332"
      ]
     },
     "execution_count": 130,
     "metadata": {},
     "output_type": "execute_result"
    }
   ],
   "source": [
    "metrics.precision_score(y_test,y_pred_dt)"
   ]
  },
  {
   "cell_type": "code",
   "execution_count": 5,
   "id": "81af65e4-3a17-487e-b94a-386956b9808a",
   "metadata": {},
   "outputs": [],
   "source": [
    "fpr_score=649/(649+4296)"
   ]
  },
  {
   "cell_type": "code",
   "execution_count": 6,
   "id": "28f6d327-197a-4c5b-a7cf-6020f09ea229",
   "metadata": {},
   "outputs": [
    {
     "data": {
      "text/plain": [
       "0.13124368048533872"
      ]
     },
     "execution_count": 6,
     "metadata": {},
     "output_type": "execute_result"
    }
   ],
   "source": [
    "fpr_score"
   ]
  },
  {
   "cell_type": "code",
   "execution_count": 10,
   "id": "41734603-3fcb-4b0b-9bf3-1b036fe92727",
   "metadata": {},
   "outputs": [],
   "source": [
    "tpr_score=808/(808+760)"
   ]
  },
  {
   "cell_type": "code",
   "execution_count": 11,
   "id": "2451346d-b7a7-422e-94ef-456eae521c83",
   "metadata": {},
   "outputs": [
    {
     "data": {
      "text/plain": [
       "0.5153061224489796"
      ]
     },
     "execution_count": 11,
     "metadata": {},
     "output_type": "execute_result"
    }
   ],
   "source": [
    "tpr_score"
   ]
  },
  {
   "cell_type": "markdown",
   "id": "0eaf1c43-e97a-4400-8a19-ca43c6316746",
   "metadata": {},
   "source": [
    "### hyper-parameter tunning for dicision tree"
   ]
  },
  {
   "cell_type": "code",
   "execution_count": 134,
   "id": "9b250756-6eb8-4174-a465-e6c821614560",
   "metadata": {},
   "outputs": [],
   "source": [
    "parameter_dict={'criterion':['gini','entropy'],'max_depth':list(range(1,50,5)),\n",
    "    'min_samples_split':[2,3,4,5,6,7],\n",
    "     'min_samples_leaf':[1,2,3,4]}"
   ]
  },
  {
   "cell_type": "code",
   "execution_count": 135,
   "id": "6a249b2b-913f-4b9c-93a4-95a12d2dc16b",
   "metadata": {},
   "outputs": [],
   "source": [
    "from sklearn.model_selection import GridSearchCV"
   ]
  },
  {
   "cell_type": "code",
   "execution_count": 136,
   "id": "4b7b13e2-9e4f-4b7b-97dd-20ad4f2dd399",
   "metadata": {},
   "outputs": [],
   "source": [
    "grid_model=GridSearchCV(dt,param_grid=parameter_dict)"
   ]
  },
  {
   "cell_type": "code",
   "execution_count": 137,
   "id": "f5770fed-3da1-4584-8e8a-c3ce671df4fb",
   "metadata": {},
   "outputs": [
    {
     "data": {
      "text/plain": [
       "GridSearchCV(estimator=DecisionTreeClassifier(),\n",
       "             param_grid={'criterion': ['gini', 'entropy'],\n",
       "                         'max_depth': [1, 6, 11, 16, 21, 26, 31, 36, 41, 46],\n",
       "                         'min_samples_leaf': [1, 2, 3, 4],\n",
       "                         'min_samples_split': [2, 3, 4, 5, 6, 7]})"
      ]
     },
     "execution_count": 137,
     "metadata": {},
     "output_type": "execute_result"
    }
   ],
   "source": [
    "grid_model.fit(x_train,y_train)"
   ]
  },
  {
   "cell_type": "code",
   "execution_count": 138,
   "id": "1d854e09-5775-4cef-8ecd-66a6bf19f98a",
   "metadata": {},
   "outputs": [
    {
     "data": {
      "text/plain": [
       "{'criterion': 'entropy',\n",
       " 'max_depth': 11,\n",
       " 'min_samples_leaf': 4,\n",
       " 'min_samples_split': 6}"
      ]
     },
     "execution_count": 138,
     "metadata": {},
     "output_type": "execute_result"
    }
   ],
   "source": [
    "grid_model.best_params_"
   ]
  },
  {
   "cell_type": "code",
   "execution_count": 139,
   "id": "413656b6-e1e7-4359-a127-6b327e7d796c",
   "metadata": {},
   "outputs": [],
   "source": [
    "dt_grid=dt=DecisionTreeClassifier(criterion= 'entropy', max_depth=11, min_samples_split=4,min_samples_leaf= 7,random_state=42)"
   ]
  },
  {
   "cell_type": "code",
   "execution_count": 140,
   "id": "626a47c9-580d-41ce-a2ea-6548c1f3bd41",
   "metadata": {},
   "outputs": [
    {
     "data": {
      "text/plain": [
       "DecisionTreeClassifier(criterion='entropy', max_depth=11, min_samples_leaf=7,\n",
       "                       min_samples_split=4, random_state=42)"
      ]
     },
     "execution_count": 140,
     "metadata": {},
     "output_type": "execute_result"
    }
   ],
   "source": [
    "dt_grid.fit(x_train,y_train)"
   ]
  },
  {
   "cell_type": "code",
   "execution_count": 141,
   "id": "1ffc6d1e-06a1-467a-81a9-310b7b866b1d",
   "metadata": {},
   "outputs": [],
   "source": [
    "y_pred_dt_grid=dt_grid.predict(x_test)"
   ]
  },
  {
   "cell_type": "code",
   "execution_count": 142,
   "id": "d85d49a7-51c4-4981-88f6-07bd6c7bd78a",
   "metadata": {},
   "outputs": [
    {
     "data": {
      "text/plain": [
       "array([[4537,  408],\n",
       "       [ 705,  863]], dtype=int64)"
      ]
     },
     "execution_count": 142,
     "metadata": {},
     "output_type": "execute_result"
    }
   ],
   "source": [
    "from sklearn import metrics\n",
    "metrics.confusion_matrix(y_test,y_pred_dt_grid)"
   ]
  },
  {
   "cell_type": "code",
   "execution_count": 143,
   "id": "fb782014-8603-4189-bc54-eba6c71b9496",
   "metadata": {},
   "outputs": [
    {
     "data": {
      "text/plain": [
       "0.8291110087517273"
      ]
     },
     "execution_count": 143,
     "metadata": {},
     "output_type": "execute_result"
    }
   ],
   "source": [
    "metrics.accuracy_score(y_test,y_pred_dt_grid)"
   ]
  },
  {
   "cell_type": "code",
   "execution_count": 144,
   "id": "f33d4a48-88e6-4bb2-b834-5825f2660709",
   "metadata": {},
   "outputs": [
    {
     "data": {
      "text/plain": [
       "0.6789929189614476"
      ]
     },
     "execution_count": 144,
     "metadata": {},
     "output_type": "execute_result"
    }
   ],
   "source": [
    "metrics.precision_score(y_test,y_pred_dt_grid)"
   ]
  },
  {
   "cell_type": "code",
   "execution_count": 145,
   "id": "2e8d51a7-542a-4bc7-aec2-d44608925d61",
   "metadata": {},
   "outputs": [
    {
     "data": {
      "text/plain": [
       "0.5503826530612245"
      ]
     },
     "execution_count": 145,
     "metadata": {},
     "output_type": "execute_result"
    }
   ],
   "source": [
    "metrics.recall_score(y_test,y_pred_dt_grid)"
   ]
  },
  {
   "cell_type": "code",
   "execution_count": 146,
   "id": "4009bdc1-e7c9-42e8-855e-7d2ed1325dd5",
   "metadata": {},
   "outputs": [
    {
     "data": {
      "text/plain": [
       "0.08250758341759352"
      ]
     },
     "execution_count": 146,
     "metadata": {},
     "output_type": "execute_result"
    }
   ],
   "source": [
    "408/(408+4537)"
   ]
  },
  {
   "cell_type": "code",
   "execution_count": 147,
   "id": "5df30543-98b4-480b-908f-9bb450702b59",
   "metadata": {},
   "outputs": [
    {
     "data": {
      "text/plain": [
       "0.7339375348218155"
      ]
     },
     "execution_count": 147,
     "metadata": {},
     "output_type": "execute_result"
    }
   ],
   "source": [
    "metrics.roc_auc_score(y_test,y_pred_dt_grid)"
   ]
  },
  {
   "cell_type": "markdown",
   "id": "d0ffd880-8a8f-41ce-b0fe-79c3164b8c08",
   "metadata": {},
   "source": [
    "### feature selection"
   ]
  },
  {
   "cell_type": "code",
   "execution_count": 148,
   "id": "0008f0be-d23c-40ad-9fea-6d27d9c0e68f",
   "metadata": {},
   "outputs": [],
   "source": [
    "from sklearn.feature_selection import SequentialFeatureSelector"
   ]
  },
  {
   "cell_type": "code",
   "execution_count": 149,
   "id": "16401d1e-21ea-4ab7-90bc-9e8733a008da",
   "metadata": {},
   "outputs": [],
   "source": [
    "fetured_df=pd.DataFrame({'features':x_train.columns,'importance':dt.feature_importances_})"
   ]
  },
  {
   "cell_type": "code",
   "execution_count": 150,
   "id": "268a58f0-ed7d-4d3e-9f2c-43c2cf6bf9c6",
   "metadata": {},
   "outputs": [
    {
     "data": {
      "text/html": [
       "<div>\n",
       "<style scoped>\n",
       "    .dataframe tbody tr th:only-of-type {\n",
       "        vertical-align: middle;\n",
       "    }\n",
       "\n",
       "    .dataframe tbody tr th {\n",
       "        vertical-align: top;\n",
       "    }\n",
       "\n",
       "    .dataframe thead th {\n",
       "        text-align: right;\n",
       "    }\n",
       "</style>\n",
       "<table border=\"1\" class=\"dataframe\">\n",
       "  <thead>\n",
       "    <tr style=\"text-align: right;\">\n",
       "      <th></th>\n",
       "      <th>features</th>\n",
       "      <th>importance</th>\n",
       "    </tr>\n",
       "  </thead>\n",
       "  <tbody>\n",
       "    <tr>\n",
       "      <th>4</th>\n",
       "      <td>marital.status</td>\n",
       "      <td>0.443440</td>\n",
       "    </tr>\n",
       "    <tr>\n",
       "      <th>3</th>\n",
       "      <td>education.num</td>\n",
       "      <td>0.266042</td>\n",
       "    </tr>\n",
       "    <tr>\n",
       "      <th>0</th>\n",
       "      <td>age</td>\n",
       "      <td>0.132066</td>\n",
       "    </tr>\n",
       "    <tr>\n",
       "      <th>5</th>\n",
       "      <td>occupation</td>\n",
       "      <td>0.062674</td>\n",
       "    </tr>\n",
       "    <tr>\n",
       "      <th>8</th>\n",
       "      <td>hours.per.week</td>\n",
       "      <td>0.031534</td>\n",
       "    </tr>\n",
       "    <tr>\n",
       "      <th>1</th>\n",
       "      <td>workclass</td>\n",
       "      <td>0.024541</td>\n",
       "    </tr>\n",
       "    <tr>\n",
       "      <th>7</th>\n",
       "      <td>sex</td>\n",
       "      <td>0.015249</td>\n",
       "    </tr>\n",
       "    <tr>\n",
       "      <th>2</th>\n",
       "      <td>education</td>\n",
       "      <td>0.010112</td>\n",
       "    </tr>\n",
       "    <tr>\n",
       "      <th>6</th>\n",
       "      <td>race</td>\n",
       "      <td>0.008221</td>\n",
       "    </tr>\n",
       "    <tr>\n",
       "      <th>9</th>\n",
       "      <td>native.country</td>\n",
       "      <td>0.006122</td>\n",
       "    </tr>\n",
       "  </tbody>\n",
       "</table>\n",
       "</div>"
      ],
      "text/plain": [
       "         features  importance\n",
       "4  marital.status    0.443440\n",
       "3   education.num    0.266042\n",
       "0             age    0.132066\n",
       "5      occupation    0.062674\n",
       "8  hours.per.week    0.031534\n",
       "1       workclass    0.024541\n",
       "7             sex    0.015249\n",
       "2       education    0.010112\n",
       "6            race    0.008221\n",
       "9  native.country    0.006122"
      ]
     },
     "execution_count": 150,
     "metadata": {},
     "output_type": "execute_result"
    }
   ],
   "source": [
    "fetured_df.sort_values(by='importance',ascending=False)"
   ]
  },
  {
   "cell_type": "markdown",
   "id": "e52e2b31-b577-4749-8413-4664467df7b4",
   "metadata": {},
   "source": [
    "### applying random forest"
   ]
  },
  {
   "cell_type": "code",
   "execution_count": 151,
   "id": "a0111cf0-ab4b-47b4-9e6a-eb706355cbf2",
   "metadata": {},
   "outputs": [],
   "source": [
    "from sklearn.ensemble import RandomForestClassifier"
   ]
  },
  {
   "cell_type": "code",
   "execution_count": 152,
   "id": "23e970dc-a386-430a-bfbb-40467764e38b",
   "metadata": {},
   "outputs": [],
   "source": [
    "rf=RandomForestClassifier()"
   ]
  },
  {
   "cell_type": "code",
   "execution_count": 153,
   "id": "41b041a2-861e-40a9-8aed-e7faa2bfb23e",
   "metadata": {},
   "outputs": [
    {
     "data": {
      "text/plain": [
       "RandomForestClassifier()"
      ]
     },
     "execution_count": 153,
     "metadata": {},
     "output_type": "execute_result"
    }
   ],
   "source": [
    "rf.fit(x_train,y_train)"
   ]
  },
  {
   "cell_type": "code",
   "execution_count": 154,
   "id": "96bda627-cde5-4a61-8cd3-9e7af3649c69",
   "metadata": {},
   "outputs": [],
   "source": [
    "y_pred_rf=rf.predict(x_test)"
   ]
  },
  {
   "cell_type": "code",
   "execution_count": 155,
   "id": "b05f0aba-6ebb-4c54-812c-e370f80f654c",
   "metadata": {},
   "outputs": [
    {
     "data": {
      "text/plain": [
       "array([[4415,  530],\n",
       "       [ 689,  879]], dtype=int64)"
      ]
     },
     "execution_count": 155,
     "metadata": {},
     "output_type": "execute_result"
    }
   ],
   "source": [
    "confusion_matrix(y_test,y_pred_rf)"
   ]
  },
  {
   "cell_type": "code",
   "execution_count": 156,
   "id": "bd61ce2e-1820-4082-831b-318a6db3b8ae",
   "metadata": {},
   "outputs": [
    {
     "data": {
      "text/plain": [
       "0.8128358667280823"
      ]
     },
     "execution_count": 156,
     "metadata": {},
     "output_type": "execute_result"
    }
   ],
   "source": [
    "metrics.accuracy_score(y_test,y_pred_rf)"
   ]
  },
  {
   "cell_type": "code",
   "execution_count": 157,
   "id": "b6e217c4-74c3-4ffc-b5b8-a32dbe8e68c7",
   "metadata": {},
   "outputs": [
    {
     "data": {
      "text/plain": [
       "0.6238466997870831"
      ]
     },
     "execution_count": 157,
     "metadata": {},
     "output_type": "execute_result"
    }
   ],
   "source": [
    "metrics.precision_score(y_test,y_pred_rf)"
   ]
  },
  {
   "cell_type": "code",
   "execution_count": 158,
   "id": "9c4b04b4-927e-483f-bd07-055e05e38c5c",
   "metadata": {},
   "outputs": [
    {
     "data": {
      "text/plain": [
       "0.5605867346938775"
      ]
     },
     "execution_count": 158,
     "metadata": {},
     "output_type": "execute_result"
    }
   ],
   "source": [
    "metrics.recall_score(y_test,y_pred_rf)"
   ]
  },
  {
   "cell_type": "code",
   "execution_count": 159,
   "id": "552e77c8-3196-4122-8b22-9cb0f7063c5e",
   "metadata": {},
   "outputs": [],
   "source": [
    "fpr_ratio=524/(524+4421)"
   ]
  },
  {
   "cell_type": "code",
   "execution_count": 160,
   "id": "44aae0a0-3693-4376-8528-528df434e2ba",
   "metadata": {},
   "outputs": [
    {
     "data": {
      "text/plain": [
       "0.10596562184024266"
      ]
     },
     "execution_count": 160,
     "metadata": {},
     "output_type": "execute_result"
    }
   ],
   "source": [
    "fpr_ratio"
   ]
  },
  {
   "cell_type": "markdown",
   "id": "44bb55ec-4a1b-46ed-be2a-8bd824c27d44",
   "metadata": {},
   "source": [
    "## hyperparameter tunning for randomforest classifier"
   ]
  },
  {
   "cell_type": "code",
   "execution_count": 161,
   "id": "201cf754-1a72-4d7a-9f17-829bb0d6c432",
   "metadata": {},
   "outputs": [],
   "source": [
    "parameter_dict={'n_estimators':list(range(1,100,20))},\n",
    "    #'criterion':['gini','entropy'],\n",
    "    #'max_depth':list(range(1,51,10))}\n",
    "    #'min_samples_split':list(range(1,10,2)),\n",
    "    #'min_samples_leaf':[]\n",
    "    "
   ]
  },
  {
   "cell_type": "code",
   "execution_count": 162,
   "id": "c8b6b36a-a606-4763-a870-d1f565d36238",
   "metadata": {},
   "outputs": [],
   "source": [
    "from sklearn.model_selection import GridSearchCV"
   ]
  },
  {
   "cell_type": "code",
   "execution_count": 163,
   "id": "949596a9-e419-41e9-b20a-9ad1b5a877a2",
   "metadata": {},
   "outputs": [],
   "source": [
    "rf_grid=GridSearchCV(rf,param_grid=parameter_dict)"
   ]
  },
  {
   "cell_type": "code",
   "execution_count": 164,
   "id": "3392853c-2aae-4389-aa31-3c467fecde19",
   "metadata": {},
   "outputs": [],
   "source": [
    "#rf_grid.fit(x_train,y_train)"
   ]
  },
  {
   "cell_type": "code",
   "execution_count": 165,
   "id": "cb7ecfbf-d064-4ae6-a9e4-e95e09ea7362",
   "metadata": {},
   "outputs": [],
   "source": [
    "#rf_grid.best_params_"
   ]
  },
  {
   "cell_type": "code",
   "execution_count": 166,
   "id": "a3f1ff92-72d6-4eac-b12d-3247e8cb585f",
   "metadata": {},
   "outputs": [],
   "source": [
    "rf=RandomForestClassifier(n_estimators=95,criterion='entropy', max_depth=31, min_samples_split= 4,min_samples_leaf= 7)"
   ]
  },
  {
   "cell_type": "code",
   "execution_count": 167,
   "id": "be21e83e-7b40-43a7-8c45-1adb98efad17",
   "metadata": {},
   "outputs": [
    {
     "data": {
      "text/plain": [
       "RandomForestClassifier(criterion='entropy', max_depth=31, min_samples_leaf=7,\n",
       "                       min_samples_split=4, n_estimators=95)"
      ]
     },
     "execution_count": 167,
     "metadata": {},
     "output_type": "execute_result"
    }
   ],
   "source": [
    "rf.fit(x_train,y_train)"
   ]
  },
  {
   "cell_type": "code",
   "execution_count": 168,
   "id": "77933afc-b329-47bb-a01b-b404aaf462fa",
   "metadata": {},
   "outputs": [],
   "source": [
    "y_pred_rf=rf.predict(x_test)"
   ]
  },
  {
   "cell_type": "code",
   "execution_count": 169,
   "id": "b05bf194-fccc-4e00-b654-01d3cd399952",
   "metadata": {},
   "outputs": [
    {
     "data": {
      "text/plain": [
       "array([[4547,  398],\n",
       "       [ 650,  918]], dtype=int64)"
      ]
     },
     "execution_count": 169,
     "metadata": {},
     "output_type": "execute_result"
    }
   ],
   "source": [
    "metrics.confusion_matrix(y_test,y_pred_rf)"
   ]
  },
  {
   "cell_type": "code",
   "execution_count": 170,
   "id": "a0e09709-f462-45ca-a67f-eac2c28bfcf5",
   "metadata": {},
   "outputs": [
    {
     "data": {
      "text/plain": [
       "0.839091048671887"
      ]
     },
     "execution_count": 170,
     "metadata": {},
     "output_type": "execute_result"
    }
   ],
   "source": [
    "metrics.accuracy_score(y_test,y_pred_rf)"
   ]
  },
  {
   "cell_type": "code",
   "execution_count": 171,
   "id": "45345519-7e0f-471d-90cf-2d11c18c244b",
   "metadata": {},
   "outputs": [
    {
     "data": {
      "text/plain": [
       "0.5854591836734694"
      ]
     },
     "execution_count": 171,
     "metadata": {},
     "output_type": "execute_result"
    }
   ],
   "source": [
    "metrics.recall_score(y_test,y_pred_rf)"
   ]
  },
  {
   "cell_type": "code",
   "execution_count": 37,
   "id": "f5f035fd-0cb9-4232-b921-14d7c7742df1",
   "metadata": {},
   "outputs": [
    {
     "data": {
      "text/plain": [
       "0.07880875202593193"
      ]
     },
     "execution_count": 37,
     "metadata": {},
     "output_type": "execute_result"
    }
   ],
   "source": [
    "389/(389+4547)"
   ]
  },
  {
   "cell_type": "code",
   "execution_count": 173,
   "id": "80088906-9ef4-4e4c-a7a8-c0be5d382c16",
   "metadata": {},
   "outputs": [
    {
     "data": {
      "text/plain": [
       "0.6975683890577508"
      ]
     },
     "execution_count": 173,
     "metadata": {},
     "output_type": "execute_result"
    }
   ],
   "source": [
    "metrics.precision_score(y_test,y_pred_rf)"
   ]
  },
  {
   "cell_type": "code",
   "execution_count": 174,
   "id": "059c83b5-0c03-46cf-9f9d-99a34c0979a0",
   "metadata": {},
   "outputs": [
    {
     "data": {
      "text/plain": [
       "0.5854591836734694"
      ]
     },
     "execution_count": 174,
     "metadata": {},
     "output_type": "execute_result"
    }
   ],
   "source": [
    "metrics.recall_score(y_test,y_pred_rf)"
   ]
  },
  {
   "cell_type": "markdown",
   "id": "d390f0a8-7f4b-4098-b4d8-c283f1e969c1",
   "metadata": {},
   "source": [
    "### applying bagging-classifier"
   ]
  },
  {
   "cell_type": "markdown",
   "id": "f4c44e88-6caf-4080-a889-15566a7f7a32",
   "metadata": {},
   "source": [
    "from sklearn.ensemble import BaggingClassifier"
   ]
  },
  {
   "cell_type": "raw",
   "id": "9b7db555-6581-44f4-b2ee-3ae66299e00c",
   "metadata": {},
   "source": [
    "from skle"
   ]
  },
  {
   "cell_type": "code",
   "execution_count": 176,
   "id": "dd68d83c-c4d8-4917-80ab-a6de85d7ad0f",
   "metadata": {},
   "outputs": [],
   "source": [
    "bg=BaggingClassifier()"
   ]
  },
  {
   "cell_type": "code",
   "execution_count": 177,
   "id": "1c6d236b-b8df-41ce-bbdb-ffab2785bf94",
   "metadata": {},
   "outputs": [
    {
     "data": {
      "text/plain": [
       "BaggingClassifier()"
      ]
     },
     "execution_count": 177,
     "metadata": {},
     "output_type": "execute_result"
    }
   ],
   "source": [
    "bg.fit(x_train,y_train)"
   ]
  },
  {
   "cell_type": "code",
   "execution_count": 178,
   "id": "177f64cd-38ab-427a-b804-6dd844614aa6",
   "metadata": {},
   "outputs": [],
   "source": [
    "y_pred_bagg=bg.predict(x_test)"
   ]
  },
  {
   "cell_type": "code",
   "execution_count": 179,
   "id": "3acecb5b-c8da-4c07-ab80-463891f63d3c",
   "metadata": {},
   "outputs": [
    {
     "data": {
      "text/plain": [
       "array([[4409,  536],\n",
       "       [ 724,  844]], dtype=int64)"
      ]
     },
     "execution_count": 179,
     "metadata": {},
     "output_type": "execute_result"
    }
   ],
   "source": [
    "confusion_matrix(y_test,y_pred_bagg)"
   ]
  },
  {
   "cell_type": "code",
   "execution_count": 180,
   "id": "2496eedc-6f4d-4931-bb3d-7a2537ae66a6",
   "metadata": {},
   "outputs": [
    {
     "data": {
      "text/plain": [
       "0.806540764624597"
      ]
     },
     "execution_count": 180,
     "metadata": {},
     "output_type": "execute_result"
    }
   ],
   "source": [
    "metrics.accuracy_score(y_test,y_pred_bagg)"
   ]
  },
  {
   "cell_type": "code",
   "execution_count": 181,
   "id": "49cb5c60-f97a-4a74-b354-581ea9812122",
   "metadata": {},
   "outputs": [
    {
     "data": {
      "text/plain": [
       "0.5382653061224489"
      ]
     },
     "execution_count": 181,
     "metadata": {},
     "output_type": "execute_result"
    }
   ],
   "source": [
    "metrics.recall_score(y_test,y_pred_bagg)"
   ]
  },
  {
   "cell_type": "code",
   "execution_count": 182,
   "id": "1ac84f6e-3aef-4f7d-88f3-a0c3aa512f68",
   "metadata": {},
   "outputs": [
    {
     "data": {
      "text/plain": [
       "0.6115942028985507"
      ]
     },
     "execution_count": 182,
     "metadata": {},
     "output_type": "execute_result"
    }
   ],
   "source": [
    "metrics.precision_score(y_test,y_pred_bagg)"
   ]
  },
  {
   "cell_type": "code",
   "execution_count": 183,
   "id": "1f6b2cde-bd0c-45b9-8555-9dc1e6fa5722",
   "metadata": {},
   "outputs": [],
   "source": [
    "fpr_ratio=686/(686+4239)"
   ]
  },
  {
   "cell_type": "code",
   "execution_count": 184,
   "id": "7448ef30-c734-4fbe-b635-40b81e1e5cd4",
   "metadata": {},
   "outputs": [
    {
     "data": {
      "text/plain": [
       "0.13928934010152283"
      ]
     },
     "execution_count": 184,
     "metadata": {},
     "output_type": "execute_result"
    }
   ],
   "source": [
    "fpr_ratio"
   ]
  },
  {
   "cell_type": "code",
   "execution_count": 185,
   "id": "e735ae3c-1099-4180-82a5-59185cf822af",
   "metadata": {},
   "outputs": [
    {
     "data": {
      "text/plain": [
       "0.5382653061224489"
      ]
     },
     "execution_count": 185,
     "metadata": {},
     "output_type": "execute_result"
    }
   ],
   "source": [
    "metrics.recall_score(y_test,y_pred_bagg)"
   ]
  },
  {
   "cell_type": "markdown",
   "id": "4194d1c5-1a74-4409-a001-37ca5a8bbf9f",
   "metadata": {},
   "source": [
    "### hyperparametertunning of bagging classifier"
   ]
  },
  {
   "cell_type": "code",
   "execution_count": 186,
   "id": "1ffcf8cb-50c6-4299-bf3f-2c7c8a9555a8",
   "metadata": {},
   "outputs": [],
   "source": [
    "from sklearn.model_selection import GridSearchCV"
   ]
  },
  {
   "cell_type": "code",
   "execution_count": 187,
   "id": "41b1d959-4c68-4773-bb49-fc68ec83d058",
   "metadata": {},
   "outputs": [],
   "source": [
    "param_grid_bagging={'n_estimators':list(range(1,100,10))}"
   ]
  },
  {
   "cell_type": "code",
   "execution_count": 188,
   "id": "2ca631e5-c3a7-40eb-a05b-866dd057ee57",
   "metadata": {},
   "outputs": [],
   "source": [
    "grid_model=GridSearchCV(bg,param_grid_bagging)"
   ]
  },
  {
   "cell_type": "code",
   "execution_count": 189,
   "id": "2b27b000-aaf0-45aa-8000-e6177b006a8e",
   "metadata": {},
   "outputs": [
    {
     "data": {
      "text/plain": [
       "GridSearchCV(estimator=BaggingClassifier(),\n",
       "             param_grid={'n_estimators': [1, 11, 21, 31, 41, 51, 61, 71, 81,\n",
       "                                          91]})"
      ]
     },
     "execution_count": 189,
     "metadata": {},
     "output_type": "execute_result"
    }
   ],
   "source": [
    "grid_model.fit(x_train,y_train)"
   ]
  },
  {
   "cell_type": "code",
   "execution_count": 190,
   "id": "fb2451da-a30f-4e1b-be6e-36dcfbf33648",
   "metadata": {},
   "outputs": [
    {
     "data": {
      "text/plain": [
       "{'n_estimators': 81}"
      ]
     },
     "execution_count": 190,
     "metadata": {},
     "output_type": "execute_result"
    }
   ],
   "source": [
    "grid_model.best_params_"
   ]
  },
  {
   "cell_type": "code",
   "execution_count": 191,
   "id": "cc8b50d3-7ac2-49d0-bdf7-32a718d94119",
   "metadata": {},
   "outputs": [],
   "source": [
    "from sklearn.ensemble import BaggingClassifier"
   ]
  },
  {
   "cell_type": "code",
   "execution_count": 192,
   "id": "b62e309e-8551-416b-9406-6977292ca2bf",
   "metadata": {},
   "outputs": [],
   "source": [
    "bg=BaggingClassifier(n_estimators=51,bootstrap=True,oob_score=True)"
   ]
  },
  {
   "cell_type": "code",
   "execution_count": 193,
   "id": "d6cfd81e-f478-45c8-a870-4f3fa7cb9027",
   "metadata": {},
   "outputs": [
    {
     "data": {
      "text/plain": [
       "BaggingClassifier(n_estimators=51, oob_score=True)"
      ]
     },
     "execution_count": 193,
     "metadata": {},
     "output_type": "execute_result"
    }
   ],
   "source": [
    "bg.fit(x_train,y_train)"
   ]
  },
  {
   "cell_type": "code",
   "execution_count": 194,
   "id": "55f52b58-f7c8-4360-a84c-549bab1c95e4",
   "metadata": {},
   "outputs": [],
   "source": [
    "y_test_pred=bg.predict(x_test)"
   ]
  },
  {
   "cell_type": "code",
   "execution_count": 195,
   "id": "e32daa01-3709-4ff5-b378-d069dcb12435",
   "metadata": {},
   "outputs": [
    {
     "data": {
      "text/plain": [
       "array([[4382,  563],\n",
       "       [ 681,  887]], dtype=int64)"
      ]
     },
     "execution_count": 195,
     "metadata": {},
     "output_type": "execute_result"
    }
   ],
   "source": [
    "confusion_matrix(y_test,y_test_pred)"
   ]
  },
  {
   "cell_type": "code",
   "execution_count": 196,
   "id": "40329a7e-c92f-474f-8231-29c0e03ce9e0",
   "metadata": {},
   "outputs": [
    {
     "data": {
      "text/plain": [
       "0.8089973898357132"
      ]
     },
     "execution_count": 196,
     "metadata": {},
     "output_type": "execute_result"
    }
   ],
   "source": [
    "metrics.accuracy_score(y_test,y_test_pred)"
   ]
  },
  {
   "cell_type": "markdown",
   "id": "cbf0994c-473b-4d16-8c5c-809fb2cdfff7",
   "metadata": {},
   "source": [
    "### applying svm"
   ]
  },
  {
   "cell_type": "code",
   "execution_count": 198,
   "id": "73d97531-b2c2-40cb-8dc1-b13f993e498f",
   "metadata": {},
   "outputs": [],
   "source": [
    "from sklearn.svm import SVC"
   ]
  },
  {
   "cell_type": "code",
   "execution_count": 199,
   "id": "0260955c-80df-4e20-ba56-930570fa3559",
   "metadata": {},
   "outputs": [],
   "source": [
    "svm=SVC()"
   ]
  },
  {
   "cell_type": "code",
   "execution_count": 200,
   "id": "d431fcd4-00cd-46ba-9ab1-f046919c2837",
   "metadata": {},
   "outputs": [],
   "source": [
    "svm_param={'degree':[2]}"
   ]
  },
  {
   "cell_type": "code",
   "execution_count": 201,
   "id": "5f0417ab-4147-40ad-adf5-f1d7ed6fc85e",
   "metadata": {},
   "outputs": [],
   "source": [
    "from sklearn.model_selection import GridSearchCV"
   ]
  },
  {
   "cell_type": "code",
   "execution_count": 202,
   "id": "ac9abf38-f4c5-48d8-b671-87fe59935200",
   "metadata": {},
   "outputs": [],
   "source": [
    "svm_grid=GridSearchCV(svm,param_grid=svm_param)"
   ]
  },
  {
   "cell_type": "code",
   "execution_count": null,
   "id": "d1be1bb5-b03b-4a81-973e-4798babae757",
   "metadata": {},
   "outputs": [],
   "source": []
  },
  {
   "cell_type": "code",
   "execution_count": 203,
   "id": "07349a68-6bfa-4a33-8ef2-e8754aef90ac",
   "metadata": {},
   "outputs": [
    {
     "data": {
      "text/plain": [
       "GridSearchCV(estimator=SVC(), param_grid={'degree': [2]})"
      ]
     },
     "execution_count": 203,
     "metadata": {},
     "output_type": "execute_result"
    }
   ],
   "source": [
    "svm_grid.fit(x_train,y_train)"
   ]
  },
  {
   "cell_type": "code",
   "execution_count": 204,
   "id": "8c53fcfb-2ca1-4bcd-acf4-2e992578a065",
   "metadata": {},
   "outputs": [
    {
     "data": {
      "text/plain": [
       "{'degree': 2}"
      ]
     },
     "execution_count": 204,
     "metadata": {},
     "output_type": "execute_result"
    }
   ],
   "source": [
    "svm_grid.best_params_"
   ]
  },
  {
   "cell_type": "code",
   "execution_count": 207,
   "id": "9b56cb3f-3b2a-409b-af4e-c608b0025c2c",
   "metadata": {},
   "outputs": [],
   "source": [
    "SVM=SVC(degree=2)"
   ]
  },
  {
   "cell_type": "code",
   "execution_count": 208,
   "id": "611871fe-af56-41fe-9217-41dc037be63d",
   "metadata": {},
   "outputs": [
    {
     "data": {
      "text/plain": [
       "SVC(degree=2)"
      ]
     },
     "execution_count": 208,
     "metadata": {},
     "output_type": "execute_result"
    }
   ],
   "source": [
    "SVM.fit(x_train,y_train)"
   ]
  },
  {
   "cell_type": "code",
   "execution_count": 209,
   "id": "dc86dd3c-1d8a-44d4-8c65-0836bf81724f",
   "metadata": {},
   "outputs": [],
   "source": [
    "y_pred_svm=SVM.predict(x_test)"
   ]
  },
  {
   "cell_type": "code",
   "execution_count": null,
   "id": "8488c3bb-eb9c-4dec-b779-563dbe45baea",
   "metadata": {},
   "outputs": [],
   "source": []
  },
  {
   "cell_type": "code",
   "execution_count": 210,
   "id": "adf57c05-70bc-4504-8f0b-31d224ce5d20",
   "metadata": {},
   "outputs": [
    {
     "data": {
      "text/plain": [
       "array([[4618,  327],\n",
       "       [ 839,  729]], dtype=int64)"
      ]
     },
     "execution_count": 210,
     "metadata": {},
     "output_type": "execute_result"
    }
   ],
   "source": [
    "confusion_matrix(y_test,y_pred_svm)"
   ]
  },
  {
   "cell_type": "markdown",
   "id": "dd2b67d6-9eec-4ff3-a7ac-c45c90df3853",
   "metadata": {},
   "source": [
    "### applying naive-base model"
   ]
  },
  {
   "cell_type": "code",
   "execution_count": 211,
   "id": "8d5742e9-89d6-4554-8eea-02df7deec937",
   "metadata": {},
   "outputs": [],
   "source": [
    "from sklearn.naive_bayes import MultinomialNB"
   ]
  },
  {
   "cell_type": "code",
   "execution_count": 212,
   "id": "b6a8c299-174a-4144-8a63-475f17c14602",
   "metadata": {},
   "outputs": [
    {
     "data": {
      "text/plain": [
       "array([[4618,  327],\n",
       "       [ 839,  729]], dtype=int64)"
      ]
     },
     "execution_count": 212,
     "metadata": {},
     "output_type": "execute_result"
    }
   ],
   "source": [
    "confusion_matrix(y_test,y_pred_svm)"
   ]
  },
  {
   "cell_type": "markdown",
   "id": "2f908dd2-d613-4a1e-b378-b9de1849001a",
   "metadata": {},
   "source": [
    "### combinning weak learnners with voting classifier"
   ]
  },
  {
   "cell_type": "code",
   "execution_count": 215,
   "id": "645f140e-12f0-4d63-9f5d-534fe4582595",
   "metadata": {},
   "outputs": [],
   "source": [
    "lr=lr=LogisticRegression(penalty='l2',solver='newton-cg',random_state=42)\n",
    "knn=KNeighborsClassifier(metric= 'minkowski', n_neighbors= 45, p=1, weights= 'uniform')\n",
    "dt_grid=DecisionTreeClassifier(criterion= 'entropy', max_depth=11, min_samples_split= 5,min_samples_leaf= 7,random_state=42)\n",
    "rf=RandomForestClassifier(n_estimators=95,criterion= 'entropy', max_depth= 11, min_samples_split= 5,min_samples_leaf= 4,random_state=42)\n",
    "bg=BaggingClassifier( n_estimators=51,bootstrap=True,oob_score=True,random_state=42)\n",
    "svm= SVC(degree=2)\n",
    "\n"
   ]
  },
  {
   "cell_type": "code",
   "execution_count": 216,
   "id": "90b0cae2-0a88-49b2-8fe9-982fe34308c3",
   "metadata": {},
   "outputs": [],
   "source": [
    "from sklearn.ensemble import VotingClassifier"
   ]
  },
  {
   "cell_type": "code",
   "execution_count": 217,
   "id": "48c04e45-857b-4919-ad8d-d714715d4b28",
   "metadata": {},
   "outputs": [],
   "source": [
    "voting_clf=VotingClassifier([('lr',lr),('knn',knn),('dt',dt_grid),('rf',rf),('bg',bg),('svm',svm)],voting='hard',n_jobs=5)"
   ]
  },
  {
   "cell_type": "code",
   "execution_count": 218,
   "id": "45e26d73-9ec0-4bb5-be8b-5aed94c57860",
   "metadata": {},
   "outputs": [
    {
     "data": {
      "text/plain": [
       "VotingClassifier(estimators=[('lr',\n",
       "                              LogisticRegression(random_state=42,\n",
       "                                                 solver='newton-cg')),\n",
       "                             ('knn', KNeighborsClassifier(n_neighbors=45, p=1)),\n",
       "                             ('dt',\n",
       "                              DecisionTreeClassifier(criterion='entropy',\n",
       "                                                     max_depth=11,\n",
       "                                                     min_samples_leaf=7,\n",
       "                                                     min_samples_split=5,\n",
       "                                                     random_state=42)),\n",
       "                             ('rf',\n",
       "                              RandomForestClassifier(criterion='entropy',\n",
       "                                                     max_depth=11,\n",
       "                                                     min_samples_leaf=4,\n",
       "                                                     min_samples_split=5,\n",
       "                                                     n_estimators=95,\n",
       "                                                     random_state=42)),\n",
       "                             ('bg',\n",
       "                              BaggingClassifier(n_estimators=51, oob_score=True,\n",
       "                                                random_state=42)),\n",
       "                             ('svm', SVC(degree=2))],\n",
       "                 n_jobs=5)"
      ]
     },
     "execution_count": 218,
     "metadata": {},
     "output_type": "execute_result"
    }
   ],
   "source": [
    "voting_clf.fit(x_train,y_train)"
   ]
  },
  {
   "cell_type": "code",
   "execution_count": 219,
   "id": "679c7d77-d74f-4b65-bbdc-8ab9e322a228",
   "metadata": {},
   "outputs": [],
   "source": [
    "y_pred_voting_clf=voting_clf.predict(x_test)"
   ]
  },
  {
   "cell_type": "code",
   "execution_count": 220,
   "id": "0e2794be-9c31-4a78-961d-5a4a45085a5c",
   "metadata": {},
   "outputs": [
    {
     "data": {
      "text/plain": [
       "array([[4641,  304],\n",
       "       [ 809,  759]], dtype=int64)"
      ]
     },
     "execution_count": 220,
     "metadata": {},
     "output_type": "execute_result"
    }
   ],
   "source": [
    "confusion_matrix(y_test,y_pred_voting_clf)"
   ]
  },
  {
   "cell_type": "code",
   "execution_count": 221,
   "id": "698195ec-c9a6-447a-a462-8a1403937c73",
   "metadata": {},
   "outputs": [
    {
     "data": {
      "text/plain": [
       "0.8291110087517273"
      ]
     },
     "execution_count": 221,
     "metadata": {},
     "output_type": "execute_result"
    }
   ],
   "source": [
    "metrics.accuracy_score(y_test,y_pred_voting_clf)"
   ]
  },
  {
   "cell_type": "code",
   "execution_count": 222,
   "id": "a776ae89-180c-45a6-ac72-bc872ea0bc55",
   "metadata": {},
   "outputs": [
    {
     "data": {
      "text/plain": [
       "0.4840561224489796"
      ]
     },
     "execution_count": 222,
     "metadata": {},
     "output_type": "execute_result"
    }
   ],
   "source": [
    "metrics.recall_score(y_test,y_pred_voting_clf)"
   ]
  },
  {
   "cell_type": "code",
   "execution_count": 223,
   "id": "9556d911-d548-4867-86af-9660d7789604",
   "metadata": {},
   "outputs": [
    {
     "data": {
      "text/plain": [
       "0.7140169332079022"
      ]
     },
     "execution_count": 223,
     "metadata": {},
     "output_type": "execute_result"
    }
   ],
   "source": [
    "metrics.precision_score(y_test,y_pred_voting_clf)"
   ]
  },
  {
   "cell_type": "markdown",
   "id": "6b5c356d-e362-45e1-8ddc-83157b5df559",
   "metadata": {},
   "source": [
    "### boosting "
   ]
  },
  {
   "cell_type": "code",
   "execution_count": 225,
   "id": "3f294709-cbce-478a-888d-0a42dad48b1f",
   "metadata": {},
   "outputs": [],
   "source": [
    "from sklearn.ensemble import AdaBoostClassifier"
   ]
  },
  {
   "cell_type": "code",
   "execution_count": 226,
   "id": "d7bc08cd-d288-46c0-8fca-2cffb265349d",
   "metadata": {},
   "outputs": [],
   "source": [
    "model=AdaBoostClassifier(base_estimator=dt,learning_rate=0.01,n_estimators=25, random_state=42)"
   ]
  },
  {
   "cell_type": "code",
   "execution_count": 227,
   "id": "5dfe74af-3417-4c97-9352-af398ea4945e",
   "metadata": {},
   "outputs": [
    {
     "data": {
      "text/plain": [
       "AdaBoostClassifier(base_estimator=DecisionTreeClassifier(criterion='entropy',\n",
       "                                                         max_depth=11,\n",
       "                                                         min_samples_leaf=7,\n",
       "                                                         min_samples_split=4,\n",
       "                                                         random_state=42),\n",
       "                   learning_rate=0.01, n_estimators=25, random_state=42)"
      ]
     },
     "execution_count": 227,
     "metadata": {},
     "output_type": "execute_result"
    }
   ],
   "source": [
    "model.fit(x_train,y_train)"
   ]
  },
  {
   "cell_type": "code",
   "execution_count": 228,
   "id": "1db642ad-0b31-4203-ac61-0b87b7bcda27",
   "metadata": {},
   "outputs": [],
   "source": [
    "y_pred_boosted=model.predict(x_test)"
   ]
  },
  {
   "cell_type": "code",
   "execution_count": 229,
   "id": "b765baa1-5b06-42c0-9050-edd491c7bb11",
   "metadata": {},
   "outputs": [
    {
     "data": {
      "text/plain": [
       "array([[4533,  412],\n",
       "       [ 658,  910]], dtype=int64)"
      ]
     },
     "execution_count": 229,
     "metadata": {},
     "output_type": "execute_result"
    }
   ],
   "source": [
    "metrics.confusion_matrix(y_test,y_pred_boosted)"
   ]
  },
  {
   "cell_type": "code",
   "execution_count": 230,
   "id": "0d65fa49-6d2a-4c47-b1f0-b4f9a742533a",
   "metadata": {},
   "outputs": [
    {
     "data": {
      "text/plain": [
       "0.8357131890066022"
      ]
     },
     "execution_count": 230,
     "metadata": {},
     "output_type": "execute_result"
    }
   ],
   "source": [
    "metrics.accuracy_score(y_test,y_pred_boosted)"
   ]
  },
  {
   "cell_type": "code",
   "execution_count": 231,
   "id": "24b6e3f7-62d5-4b5a-b5ee-6e48f1507cd4",
   "metadata": {},
   "outputs": [
    {
     "data": {
      "text/plain": [
       "0.6883509833585476"
      ]
     },
     "execution_count": 231,
     "metadata": {},
     "output_type": "execute_result"
    }
   ],
   "source": [
    "metrics.precision_score(y_test,y_pred_boosted)\n"
   ]
  },
  {
   "cell_type": "code",
   "execution_count": 232,
   "id": "6607e432-e17b-405f-a2e8-ddf87ee4ab62",
   "metadata": {},
   "outputs": [
    {
     "data": {
      "text/plain": [
       "0.5803571428571429"
      ]
     },
     "execution_count": 232,
     "metadata": {},
     "output_type": "execute_result"
    }
   ],
   "source": [
    "metrics.recall_score(y_test,y_pred_boosted)\n"
   ]
  },
  {
   "cell_type": "code",
   "execution_count": 12,
   "id": "b0404a63-42ad-4666-9066-6e04fad840ec",
   "metadata": {},
   "outputs": [],
   "source": [
    "fpr_score=412/(412+4533)"
   ]
  },
  {
   "cell_type": "code",
   "execution_count": 14,
   "id": "91ff2150-29db-4e95-88e7-1da252bd3831",
   "metadata": {},
   "outputs": [
    {
     "data": {
      "text/plain": [
       "0.0833164812942366"
      ]
     },
     "execution_count": 14,
     "metadata": {},
     "output_type": "execute_result"
    }
   ],
   "source": [
    "fpr_score"
   ]
  },
  {
   "cell_type": "code",
   "execution_count": 234,
   "id": "5d961aad-045e-45b7-a921-4a195b8e7e7c",
   "metadata": {},
   "outputs": [
    {
     "data": {
      "text/plain": [
       "0.7485203307814531"
      ]
     },
     "execution_count": 234,
     "metadata": {},
     "output_type": "execute_result"
    }
   ],
   "source": [
    "metrics.roc_auc_score(y_test,y_pred_boosted)"
   ]
  },
  {
   "cell_type": "code",
   "execution_count": 8,
   "id": "ff415fbf-0594-4c45-9924-e4eedebe84f0",
   "metadata": {},
   "outputs": [],
   "source": [
    "### creating an usecase"
   ]
  },
  {
   "cell_type": "code",
   "execution_count": 9,
   "id": "3fa0138d-519d-4ce1-b88e-41d8219ff0ab",
   "metadata": {},
   "outputs": [],
   "source": [
    "# problem statement - goverment want to deploys new taxetion laws in favour of peoples earnning less than 50k$ using this sensus data\n",
    "                      #  govermrnt is ok with someone with higher income paying lower tax goverment dont want one with earning less than 50k$ paying\n",
    "                      # and still paying higher tax"
   ]
  },
  {
   "cell_type": "code",
   "execution_count": null,
   "id": "b8f43724-ebb4-4253-ba7c-02fb0701fb54",
   "metadata": {},
   "outputs": [],
   "source": [
    "# AIM- to select model having good accuracy,lower fpr,better pricision"
   ]
  },
  {
   "cell_type": "code",
   "execution_count": 24,
   "id": "251a4b3e-ffe7-432d-9f2d-49582797cdf9",
   "metadata": {},
   "outputs": [],
   "source": [
    "import pandas as pd\n",
    "df=pd.DataFrame()"
   ]
  },
  {
   "cell_type": "code",
   "execution_count": 25,
   "id": "ad821739-a36e-4946-af7c-42119d25f892",
   "metadata": {},
   "outputs": [],
   "source": [
    "df['model_name']=['logistic-regression','KNN','dicision-tree','Random-Forest','bagging-classifier','SVM','votting-classifier','adboost technique']"
   ]
  },
  {
   "cell_type": "code",
   "execution_count": 26,
   "id": "b4e399c4-3f75-4714-856e-fa0b20c1debe",
   "metadata": {},
   "outputs": [],
   "source": [
    "df['Accuracy']=[80,81,78,81,80.6,82,82.9,81]"
   ]
  },
  {
   "cell_type": "code",
   "execution_count": 27,
   "id": "1bdb867e-1f36-48e6-b3da-f17a572dfe29",
   "metadata": {},
   "outputs": [],
   "source": [
    "df['hyper_parameters']=[['Penalty = 12,Solver = Newton-cg'],['Metric = ‘ Minkowiski’n_neighbours = 15,weights = uniform,p = 1'],\n",
    "                       ['Criterion = entropy','max_depth = 11','min_sample_split = 4','min_sample_leaf = 7'],['n_estimators = 95','criterion = entropy','max_depth = 3','min_sample_split = 4','min_sample_leaf = 7'],\n",
    "                        ['n_estimator = 51','bootstrap = True','oob_score = True'],['Degree = 2'],['-'],['base_estimator = dt','lr = 0.01','n_estimator = 25']]"
   ]
  },
  {
   "cell_type": "code",
   "execution_count": 28,
   "id": "9573e5b5-bf25-4dce-86df-9a6c19733523",
   "metadata": {},
   "outputs": [],
   "source": [
    "df['accuracy with hyper-parameter tunnung']=[80.4,82.8,82.9,83.90,80.8,82,82.9,83.57]"
   ]
  },
  {
   "cell_type": "code",
   "execution_count": 29,
   "id": "3293ea73-b5d7-4a00-855d-c0569e96cc3a",
   "metadata": {},
   "outputs": [
    {
     "data": {
      "text/html": [
       "<div>\n",
       "<style scoped>\n",
       "    .dataframe tbody tr th:only-of-type {\n",
       "        vertical-align: middle;\n",
       "    }\n",
       "\n",
       "    .dataframe tbody tr th {\n",
       "        vertical-align: top;\n",
       "    }\n",
       "\n",
       "    .dataframe thead th {\n",
       "        text-align: right;\n",
       "    }\n",
       "</style>\n",
       "<table border=\"1\" class=\"dataframe\">\n",
       "  <thead>\n",
       "    <tr style=\"text-align: right;\">\n",
       "      <th></th>\n",
       "      <th>model_name</th>\n",
       "      <th>Accuracy</th>\n",
       "      <th>hyper_parameters</th>\n",
       "      <th>accuracy with hyper-parameter tunnung</th>\n",
       "    </tr>\n",
       "  </thead>\n",
       "  <tbody>\n",
       "    <tr>\n",
       "      <th>0</th>\n",
       "      <td>logistic-regression</td>\n",
       "      <td>80.0</td>\n",
       "      <td>[Penalty = 12,Solver = Newton-cg]</td>\n",
       "      <td>80.40</td>\n",
       "    </tr>\n",
       "    <tr>\n",
       "      <th>1</th>\n",
       "      <td>KNN</td>\n",
       "      <td>81.0</td>\n",
       "      <td>[Metric = ‘ Minkowiski’n_neighbours = 15,weigh...</td>\n",
       "      <td>82.80</td>\n",
       "    </tr>\n",
       "    <tr>\n",
       "      <th>2</th>\n",
       "      <td>dicision-tree</td>\n",
       "      <td>78.0</td>\n",
       "      <td>[Criterion = entropy, max_depth = 11, min_samp...</td>\n",
       "      <td>82.90</td>\n",
       "    </tr>\n",
       "    <tr>\n",
       "      <th>3</th>\n",
       "      <td>Random-Forest</td>\n",
       "      <td>81.0</td>\n",
       "      <td>[n_estimators = 95, criterion = entropy, max_d...</td>\n",
       "      <td>83.90</td>\n",
       "    </tr>\n",
       "    <tr>\n",
       "      <th>4</th>\n",
       "      <td>bagging-classifier</td>\n",
       "      <td>80.6</td>\n",
       "      <td>[n_estimator = 51, bootstrap = True, oob_score...</td>\n",
       "      <td>80.80</td>\n",
       "    </tr>\n",
       "    <tr>\n",
       "      <th>5</th>\n",
       "      <td>SVM</td>\n",
       "      <td>82.0</td>\n",
       "      <td>[Degree = 2]</td>\n",
       "      <td>82.00</td>\n",
       "    </tr>\n",
       "    <tr>\n",
       "      <th>6</th>\n",
       "      <td>votting-classifier</td>\n",
       "      <td>82.9</td>\n",
       "      <td>[-]</td>\n",
       "      <td>82.90</td>\n",
       "    </tr>\n",
       "    <tr>\n",
       "      <th>7</th>\n",
       "      <td>adboost technique</td>\n",
       "      <td>81.0</td>\n",
       "      <td>[base_estimator = dt, lr = 0.01, n_estimator =...</td>\n",
       "      <td>83.57</td>\n",
       "    </tr>\n",
       "  </tbody>\n",
       "</table>\n",
       "</div>"
      ],
      "text/plain": [
       "            model_name  Accuracy  \\\n",
       "0  logistic-regression      80.0   \n",
       "1                  KNN      81.0   \n",
       "2        dicision-tree      78.0   \n",
       "3        Random-Forest      81.0   \n",
       "4   bagging-classifier      80.6   \n",
       "5                  SVM      82.0   \n",
       "6   votting-classifier      82.9   \n",
       "7    adboost technique      81.0   \n",
       "\n",
       "                                    hyper_parameters  \\\n",
       "0                  [Penalty = 12,Solver = Newton-cg]   \n",
       "1  [Metric = ‘ Minkowiski’n_neighbours = 15,weigh...   \n",
       "2  [Criterion = entropy, max_depth = 11, min_samp...   \n",
       "3  [n_estimators = 95, criterion = entropy, max_d...   \n",
       "4  [n_estimator = 51, bootstrap = True, oob_score...   \n",
       "5                                       [Degree = 2]   \n",
       "6                                                [-]   \n",
       "7  [base_estimator = dt, lr = 0.01, n_estimator =...   \n",
       "\n",
       "   accuracy with hyper-parameter tunnung  \n",
       "0                                  80.40  \n",
       "1                                  82.80  \n",
       "2                                  82.90  \n",
       "3                                  83.90  \n",
       "4                                  80.80  \n",
       "5                                  82.00  \n",
       "6                                  82.90  \n",
       "7                                  83.57  "
      ]
     },
     "execution_count": 29,
     "metadata": {},
     "output_type": "execute_result"
    }
   ],
   "source": [
    "df"
   ]
  },
  {
   "cell_type": "code",
   "execution_count": 30,
   "id": "284bbbc6-4908-475c-9b1e-a13ed748680f",
   "metadata": {},
   "outputs": [],
   "source": [
    "# but accuracy cannot be the final parameter to decide"
   ]
  },
  {
   "cell_type": "code",
   "execution_count": 32,
   "id": "c121bb71-8c01-42c0-9bd9-5157e093764e",
   "metadata": {},
   "outputs": [],
   "source": [
    "# choosing top 3  performing models"
   ]
  },
  {
   "cell_type": "code",
   "execution_count": null,
   "id": "ffa86a2d-eacf-4885-8ad9-5dbc638154fe",
   "metadata": {},
   "outputs": [],
   "source": []
  },
  {
   "cell_type": "code",
   "execution_count": 35,
   "id": "88b9ae09-aae8-4566-9191-6ce7fedfe50e",
   "metadata": {},
   "outputs": [],
   "source": [
    "df1=pd.DataFrame()"
   ]
  },
  {
   "cell_type": "code",
   "execution_count": 36,
   "id": "03a4349e-de6f-4f6f-aad4-a4a4e9dd81f3",
   "metadata": {},
   "outputs": [],
   "source": [
    "df1['name_of_model']=['Dicission tree','Random-forest','adboost-technique']"
   ]
  },
  {
   "cell_type": "code",
   "execution_count": 38,
   "id": "0766c1e7-2b06-479e-9cb0-824e94ee4e45",
   "metadata": {},
   "outputs": [],
   "source": [
    "df1['Accuracy']=[82.9,83.9,83.5]\n",
    "df1['FPR-ratio']=[8.2,7.8,8.3]\n",
    "df1['precision']=[67.89,69.75,68.83]\n",
    "df1['tpr-ratio']=[55.03,58.54,58.07]\n"
   ]
  },
  {
   "cell_type": "code",
   "execution_count": 39,
   "id": "83589fb8-15ee-4759-8c31-53e0dc19c573",
   "metadata": {},
   "outputs": [
    {
     "data": {
      "text/html": [
       "<div>\n",
       "<style scoped>\n",
       "    .dataframe tbody tr th:only-of-type {\n",
       "        vertical-align: middle;\n",
       "    }\n",
       "\n",
       "    .dataframe tbody tr th {\n",
       "        vertical-align: top;\n",
       "    }\n",
       "\n",
       "    .dataframe thead th {\n",
       "        text-align: right;\n",
       "    }\n",
       "</style>\n",
       "<table border=\"1\" class=\"dataframe\">\n",
       "  <thead>\n",
       "    <tr style=\"text-align: right;\">\n",
       "      <th></th>\n",
       "      <th>name_of_model</th>\n",
       "      <th>Accuracy</th>\n",
       "      <th>FPR-ratio</th>\n",
       "      <th>precision</th>\n",
       "      <th>tpr-ratio</th>\n",
       "    </tr>\n",
       "  </thead>\n",
       "  <tbody>\n",
       "    <tr>\n",
       "      <th>0</th>\n",
       "      <td>Dicission tree</td>\n",
       "      <td>82.9</td>\n",
       "      <td>8.2</td>\n",
       "      <td>67.89</td>\n",
       "      <td>55.03</td>\n",
       "    </tr>\n",
       "    <tr>\n",
       "      <th>1</th>\n",
       "      <td>Random-forest</td>\n",
       "      <td>83.9</td>\n",
       "      <td>7.8</td>\n",
       "      <td>69.75</td>\n",
       "      <td>58.54</td>\n",
       "    </tr>\n",
       "    <tr>\n",
       "      <th>2</th>\n",
       "      <td>adboost-technique</td>\n",
       "      <td>83.5</td>\n",
       "      <td>8.3</td>\n",
       "      <td>68.83</td>\n",
       "      <td>58.07</td>\n",
       "    </tr>\n",
       "  </tbody>\n",
       "</table>\n",
       "</div>"
      ],
      "text/plain": [
       "       name_of_model  Accuracy  FPR-ratio  precision  tpr-ratio\n",
       "0     Dicission tree      82.9        8.2      67.89      55.03\n",
       "1      Random-forest      83.9        7.8      69.75      58.54\n",
       "2  adboost-technique      83.5        8.3      68.83      58.07"
      ]
     },
     "execution_count": 39,
     "metadata": {},
     "output_type": "execute_result"
    }
   ],
   "source": [
    "df1"
   ]
  },
  {
   "cell_type": "code",
   "execution_count": 40,
   "id": "ba593304-6348-444d-880b-765a8fbcc66d",
   "metadata": {},
   "outputs": [],
   "source": [
    "### considering our problem statement, random forest seems to performing best in all the senario"
   ]
  },
  {
   "cell_type": "code",
   "execution_count": null,
   "id": "237a0ff3-6b15-460f-8149-4e4b787c7717",
   "metadata": {},
   "outputs": [],
   "source": []
  },
  {
   "cell_type": "code",
   "execution_count": null,
   "id": "0c3b54e4-86a2-4623-9141-37badc591cad",
   "metadata": {},
   "outputs": [],
   "source": []
  },
  {
   "cell_type": "code",
   "execution_count": null,
   "id": "1e00e0bd-3ae0-4a84-835d-7615b9746cce",
   "metadata": {},
   "outputs": [],
   "source": []
  },
  {
   "cell_type": "code",
   "execution_count": null,
   "id": "7f332276-fa34-407d-8e24-2646aef2b957",
   "metadata": {},
   "outputs": [],
   "source": []
  },
  {
   "cell_type": "code",
   "execution_count": null,
   "id": "13f34652-f201-46ba-ba82-4f3302fc1262",
   "metadata": {},
   "outputs": [],
   "source": []
  },
  {
   "cell_type": "code",
   "execution_count": null,
   "id": "75b76721-1bed-4b43-91c6-a0fde7eb626e",
   "metadata": {},
   "outputs": [],
   "source": []
  },
  {
   "cell_type": "code",
   "execution_count": null,
   "id": "15931f97-bf69-4432-adfa-d9d7f0082643",
   "metadata": {},
   "outputs": [],
   "source": []
  },
  {
   "cell_type": "code",
   "execution_count": null,
   "id": "25dafe7f-7b9d-4903-ac4e-d67a460b6b8f",
   "metadata": {},
   "outputs": [],
   "source": []
  },
  {
   "cell_type": "code",
   "execution_count": null,
   "id": "e9fcb2cb-6cc8-4211-b816-21b7f6682bdd",
   "metadata": {},
   "outputs": [],
   "source": []
  },
  {
   "cell_type": "code",
   "execution_count": null,
   "id": "e248fd6d-8808-44b1-b1df-016ee09c5b63",
   "metadata": {},
   "outputs": [],
   "source": []
  }
 ],
 "metadata": {
  "kernelspec": {
   "display_name": "Python 3 (ipykernel)",
   "language": "python",
   "name": "python3"
  },
  "language_info": {
   "codemirror_mode": {
    "name": "ipython",
    "version": 3
   },
   "file_extension": ".py",
   "mimetype": "text/x-python",
   "name": "python",
   "nbconvert_exporter": "python",
   "pygments_lexer": "ipython3",
   "version": "3.9.13"
  }
 },
 "nbformat": 4,
 "nbformat_minor": 5
}
